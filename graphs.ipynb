{
 "cells": [
  {
   "cell_type": "markdown",
   "metadata": {},
   "source": [
    "# Patent Success Prediction\n",
    "\n",
    "## This notebook takes in data from pending applications and predicts possibility of acceptance based on supporting information and similarity to previously acccpted patents.\n"
   ]
  },
  {
   "cell_type": "markdown",
   "metadata": {},
   "source": [
    "### The following 5 cells flatten the data from pending applications into a usable form"
   ]
  },
  {
   "cell_type": "code",
   "execution_count": 1,
   "metadata": {},
   "outputs": [],
   "source": [
    "import pandas as pd\n",
    "from IPython.display import IFrame\n",
    "import urllib.request\n",
    "import json\n",
    "headers=['applicantid','patentId','patentNumber','supportingMaterial','hasRepresentative','natureOfPatent','hasPublications', 'creator', 'busisnessSize', 'businessName', 'isValid', 'track1NonProvisionalApp','provisional','description','usNationalStageNumber','acceleratedExam','nonProvisionalExam','reexam','reissue','isDesignApplication', 'country','info','isForeignPriority','isInternationalDesignApp','receivingOffice']\n"
   ]
  },
  {
   "cell_type": "code",
   "execution_count": null,
   "metadata": {},
   "outputs": [],
   "source": [
    "applicant = open('applicant')\n",
    "appId=[]\n",
    "creator=[]\n",
    "busSize=[]\n",
    "busName=[]\n",
    "for line in applicant:\n",
    "    line=line.split(',')\n",
    "    if len(line)<6:\n",
    "        continue\n",
    "    x=5\n",
    "    bussize=line[x]\n",
    "    while bussize not in ['Small', 'Medium', 'Large', 'Independent'] and x<len(line)-2:\n",
    "        x+=1\n",
    "    else:\n",
    "        busSize.append(line[x])\n",
    "        busName.append(line[x+1].strip('\\n'))\n",
    "    appId.append(line[0])\n",
    "    creator.append(line[2])\n",
    "df=pd.DataFrame({'applicantId':appId, 'creator':creator, 'businessSize':busSize, 'businessName':busName })\n",
    "df=df[1:]\n"
   ]
  },
  {
   "cell_type": "code",
   "execution_count": null,
   "metadata": {},
   "outputs": [],
   "source": [
    "applicant= open('application')\n",
    "for line in applicant:\n",
    "        line=line.split(',')\n",
    "        apid=line[5]\n",
    "        valid=line[7]\n",
    "        patid=line[6]\n",
    "        for row in range(1,len(df)):\n",
    "            if apid==df.at[row,'applicantId']:\n",
    "                df.loc[row,'isValid']=valid.strip('\\n')\n",
    "                df.loc[row, 'patentId']=patid\n",
    "                break\n",
    "\n",
    "\n",
    "        "
   ]
  },
  {
   "cell_type": "code",
   "execution_count": null,
   "metadata": {},
   "outputs": [],
   "source": [
    "applicant = open('patent')\n",
    "for line in applicant:\n",
    "    try:\n",
    "        line=line.split(',')\n",
    "        patid=line[0]\n",
    "        patnum=line[1]\n",
    "        product=line[2]\n",
    "        rep=line[4]\n",
    "        x=5\n",
    "        while line[x] not in ['Chemical', 'Material', 'Structural'] and x<len(line)-2:\n",
    "            x+=1\n",
    "        nature=line[x]\n",
    "        pub=line[x+1]\n",
    "    except IndexError:\n",
    "        continue\n",
    "    for row in range(1, len(df)):\n",
    "        if patid == df.loc[row, 'patentId']:\n",
    "            df.loc[row, 'patentNumber'] = patnum\n",
    "            df.loc[row, 'productName'] = product\n",
    "            df.loc[row, 'hasRepresentative'] = rep\n",
    "            df.loc[row, 'patentNature'] = nature\n",
    "            df.loc[row, 'hasPublication'] = pub\n",
    "df=df[df['creator']!= 'NULL']\n",
    "df=df[df['businessSize']!='']\n"
   ]
  },
  {
   "cell_type": "code",
   "execution_count": null,
   "metadata": {},
   "outputs": [],
   "source": [
    "df=df.reset_index()\n",
    "df.drop('index', axis=1, inplace=True)\n",
    "applicant=open('DomesticForeignInfluence')\n",
    "for line in applicant:\n",
    "    line=line.split(',')\n",
    "    patnum=line[4]\n",
    "    country=line[1]\n",
    "    info=line[2]\n",
    "    isforeigninf=line[3]\n",
    "    for row in range(1, len(df)):\n",
    "        if str(patnum).strip() == str(df.loc[row, 'patentNumber']).strip():\n",
    "            df.loc[row, 'country'] = country\n",
    "            df.loc[row, 'info'] = info\n",
    "            df.loc[row, 'isForeignInfluence'] = isforeigninf\n",
    "\n",
    "\n",
    "df\n"
   ]
  },
  {
   "cell_type": "code",
   "execution_count": 15,
   "metadata": {},
   "outputs": [
    {
     "ename": "NameError",
     "evalue": "name 'df' is not defined",
     "output_type": "error",
     "traceback": [
      "\u001b[0;31m---------------------------------------------------------------------------\u001b[0m",
      "\u001b[0;31mNameError\u001b[0m                                 Traceback (most recent call last)",
      "\u001b[0;32m<ipython-input-15-00cf07b74dcd>\u001b[0m in \u001b[0;36m<module>\u001b[0;34m\u001b[0m\n\u001b[0;32m----> 1\u001b[0;31m \u001b[0mdf\u001b[0m\u001b[0;34m\u001b[0m\u001b[0;34m\u001b[0m\u001b[0m\n\u001b[0m",
      "\u001b[0;31mNameError\u001b[0m: name 'df' is not defined"
     ]
    }
   ],
   "source": []
  },
  {
   "cell_type": "markdown",
   "metadata": {},
   "source": [
    "### The following three cells count up the amount of supporting information provided with the patent such as publications, exams, and representatives."
   ]
  },
  {
   "cell_type": "code",
   "execution_count": null,
   "metadata": {},
   "outputs": [],
   "source": [
    "\n",
    "for row in range(0, len(df)):\n",
    "    exams=0\n",
    "    applicant= open('supplementalExam')\n",
    "    for line in applicant:\n",
    "        line=line.split(',')\n",
    "        if line[1] == df.loc[row, 'patentNumber']:\n",
    "            df.loc[row, 'hasExam'] = 1\n",
    "            exams+=1\n",
    "    if exams==0:\n",
    "        df.loc[row, 'hasExam'] = 0\n",
    "    else:\n",
    "        df.loc[row, 'numExams'] = exams\n",
    "    applicant.close()\n",
    "    \n"
   ]
  },
  {
   "cell_type": "code",
   "execution_count": null,
   "metadata": {},
   "outputs": [],
   "source": [
    "\n",
    "for row in range(0, len(df)):\n",
    "    reps=0\n",
    "    applicant= open('representative')\n",
    "    for line in applicant:\n",
    "        line=line.split(',')\n",
    "        if len(line)<8:\n",
    "            continue\n",
    "        if str(line[7]).strip() == str(df.loc[row, 'patentNumber']).strip():\n",
    "            reps+=1\n",
    "    applicant.close()\n",
    "    \n",
    "    df.loc[row, 'numReps'] = reps"
   ]
  },
  {
   "cell_type": "code",
   "execution_count": null,
   "metadata": {},
   "outputs": [],
   "source": [
    "\n",
    "for row in range(0, len(df)):\n",
    "    pubs=0\n",
    "    applicant= open('Publication')\n",
    "    for line in applicant:\n",
    "        line=line.split(',')\n",
    "        if len(line)<8:\n",
    "            continue\n",
    "        if str(line[7]).strip() == str(df.loc[row, 'patentNumber']).strip():\n",
    "            pubs+=1\n",
    "    applicant.close()\n",
    "    df.loc[row, 'numPubs'] = pubs\n",
    "df.fillna(0, inplace=True)\n"
   ]
  },
  {
   "cell_type": "markdown",
   "metadata": {},
   "source": [
    "## We now send data about the application to an API that supplies information about accepted patents. We are counting up how many similar patents have been accepted."
   ]
  },
  {
   "cell_type": "code",
   "execution_count": null,
   "metadata": {
    "scrolled": true
   },
   "outputs": [],
   "source": [
    "\n",
    "for row in range(0,len(df)):\n",
    "    datalist=[]\n",
    "    s = df.loc[row, 'productName']\n",
    "    numSimPats=0\n",
    "    for x in range(1,20):\n",
    "        df.loc[row, \"similarPatents\"]=numSimPats\n",
    "        print('.', end='')\n",
    "        url = \"\"\"https://www.patentsview.org/api/patents/query?q=\"\"\"\n",
    "        try:\n",
    "            ss= s.split()\n",
    "        except AttributeError:\n",
    "            continue\n",
    "        if len(ss) == 1:\n",
    "            query=\"\"\"{\"_text_all\":{\"patent_title\":\"%s\"}}&o={\"page\":%d,\"per_page\":50}\"\"\"%(s,x)\n",
    "        else:\n",
    "            query=\"\"\"{\"_text_all\":{\"patent_title\":%s}}&o={\"page\":%d,\"per_page\":50}\"\"\"%(str(s).replace(' ', '%20'),x)\n",
    "        try:\n",
    "            uh = urllib.request.urlopen(url+query)\n",
    "        except:\n",
    "            print('!', end='')\n",
    "            continue\n",
    "        data = uh.read().decode()\n",
    "        if json.loads(data)['total_patent_count']==0:\n",
    "            continue\n",
    "        datalist.append(data)\n",
    "        numSimPats+=json.loads(data)['count']\n",
    "    "
   ]
  },
  {
   "cell_type": "markdown",
   "metadata": {},
   "source": [
    "## The cell below runs an algorithm that rates the usefulness of supporting information A.K.A. the 'complexity' of the application, compares that to the number of similar patents that have been accepted, and assigns an approval rating."
   ]
  },
  {
   "cell_type": "code",
   "execution_count": 113,
   "metadata": {
    "scrolled": true
   },
   "outputs": [
    {
     "data": {
      "text/plain": [
       "count    82.000000\n",
       "mean      0.820802\n",
       "std       1.812991\n",
       "min       0.000010\n",
       "25%       0.000771\n",
       "50%       0.006250\n",
       "75%       0.476250\n",
       "max       9.000000\n",
       "Name: Approval, dtype: float64"
      ]
     },
     "execution_count": 113,
     "metadata": {},
     "output_type": "execute_result"
    }
   ],
   "source": [
    "df['Complexity']=df['numExams']+df['numPubs']+df['numReps']\n",
    "for row in range(len(df)):\n",
    "    if df.loc[row,'businessSize'] =='Large':\n",
    "        x=2\n",
    "    if df.loc[row,'businessSize'] =='Small':\n",
    "        x=1.5\n",
    "    if df.loc[row,'businessSize'] =='Medium':\n",
    "        x=1.2\n",
    "    if df.loc[row,'businessSize'] =='Independent':\n",
    "        x=1\n",
    "    df.loc[row,'Complexity']/=x\n",
    "    if df.loc[row,'Complexity']==0 and df.loc[row, 'similarPatents']==0:\n",
    "        continue\n",
    "    if df.loc[row,'Complexity']==0:\n",
    "        df.loc[row,'Complexity']=.1\n",
    "    if df.loc[row, 'similarPatents']==0:\n",
    "        df.loc[row, 'similarPatents']=.1\n",
    "\n",
    "df['Approval'] = (df['similarPatents']/50)*(df['Complexity']*50)\n",
    "\n",
    "df['Approval'].describe()"
   ]
  },
  {
   "cell_type": "code",
   "execution_count": 111,
   "metadata": {},
   "outputs": [],
   "source": [
    "size=df[['businessSize','Approval','businessName']]\n",
    "likely=df[['Approval','similarPatents','Complexity','businessName']]\n",
    "size.to_csv('finalsize.csv')\n",
    "likely.to_csv('finallikely.csv')\n",
    "df.to_csv('finalfull.csv')"
   ]
  },
  {
   "cell_type": "code",
   "execution_count": null,
   "metadata": {},
   "outputs": [],
   "source": []
  },
  {
   "cell_type": "markdown",
   "metadata": {},
   "source": [
    "# Approval Likelihood by Similar Patents and Supporting Info\n",
    " This visualization represents the approval likelihood with the x-axis being the amount of supporting information and the y-axis being the number of similar patents that have been approved. Lighter green patents are very likely to be approved, while darker purple are much more unlikely. Hover over the dots to see the name of the product and the exact percentage of approval likelihood."
   ]
  },
  {
   "cell_type": "code",
   "execution_count": 65,
   "metadata": {},
   "outputs": [
    {
     "data": {
      "text/html": [
       "\n",
       "        <iframe\n",
       "            width=\"900\"\n",
       "            height=\"800\"\n",
       "            src=\"https://public.flourish.studio/visualisation/1233063/?frameborder=0&scrolling=no\"\n",
       "            frameborder=\"0\"\n",
       "            allowfullscreen\n",
       "        ></iframe>\n",
       "        "
      ],
      "text/plain": [
       "<IPython.lib.display.IFrame at 0x11e57f6d0>"
      ]
     },
     "metadata": {},
     "output_type": "display_data"
    }
   ],
   "source": [
    "display(IFrame('https://public.flourish.studio/visualisation/1233063/',width=900, height=800, frameborder=0, scrolling=\"no\"))"
   ]
  },
  {
   "cell_type": "code",
   "execution_count": null,
   "metadata": {},
   "outputs": [],
   "source": []
  },
  {
   "cell_type": "code",
   "execution_count": 2,
   "metadata": {},
   "outputs": [],
   "source": [
    "df=pd.read_csv('finalfull.csv')"
   ]
  },
  {
   "cell_type": "markdown",
   "metadata": {},
   "source": [
    "# Approval Likelihood by Business Size\n",
    "The following graph takes the likelihood of approval and organizes it by company size. From our test data, you can see patents from independents have a greater ratio of rejected patents to accepted patents, whereas medium sized companies have a more even spread. "
   ]
  },
  {
   "cell_type": "code",
   "execution_count": 18,
   "metadata": {},
   "outputs": [
    {
     "data": {
      "text/html": [
       "\n",
       "        <iframe\n",
       "            width=\"900\"\n",
       "            height=\"800\"\n",
       "            src=\"https://public.flourish.studio/visualisation/1233200/?frameborder=0&scrolling=no\"\n",
       "            frameborder=\"0\"\n",
       "            allowfullscreen\n",
       "        ></iframe>\n",
       "        "
      ],
      "text/plain": [
       "<IPython.lib.display.IFrame at 0x11d6dc450>"
      ]
     },
     "metadata": {},
     "output_type": "display_data"
    }
   ],
   "source": [
    "display(IFrame('https://public.flourish.studio/visualisation/1233200/',width=900, height=800, frameborder=0, scrolling=\"no\"))"
   ]
  },
  {
   "cell_type": "markdown",
   "metadata": {},
   "source": [
    "Flattening and reorganizing data for more graphs"
   ]
  },
  {
   "cell_type": "code",
   "execution_count": 6,
   "metadata": {},
   "outputs": [
    {
     "data": {
      "text/html": [
       "<div>\n",
       "<style scoped>\n",
       "    .dataframe tbody tr th:only-of-type {\n",
       "        vertical-align: middle;\n",
       "    }\n",
       "\n",
       "    .dataframe tbody tr th {\n",
       "        vertical-align: top;\n",
       "    }\n",
       "\n",
       "    .dataframe thead th {\n",
       "        text-align: right;\n",
       "    }\n",
       "</style>\n",
       "<table border=\"1\" class=\"dataframe\">\n",
       "  <thead>\n",
       "    <tr style=\"text-align: right;\">\n",
       "      <th></th>\n",
       "      <th>productName</th>\n",
       "      <th>patentNature</th>\n",
       "    </tr>\n",
       "  </thead>\n",
       "  <tbody>\n",
       "    <tr>\n",
       "      <td>0</td>\n",
       "      <td>\"Beeswax Lip Balm\"</td>\n",
       "      <td>Structural</td>\n",
       "    </tr>\n",
       "    <tr>\n",
       "      <td>1</td>\n",
       "      <td>\"Paint Markers\"</td>\n",
       "      <td>Structural</td>\n",
       "    </tr>\n",
       "    <tr>\n",
       "      <td>2</td>\n",
       "      <td>Boat</td>\n",
       "      <td>Material</td>\n",
       "    </tr>\n",
       "    <tr>\n",
       "      <td>3</td>\n",
       "      <td>\"Insulated Waterbottle\"</td>\n",
       "      <td>Structural</td>\n",
       "    </tr>\n",
       "    <tr>\n",
       "      <td>4</td>\n",
       "      <td>\"Transforming Earphones\"</td>\n",
       "      <td>Material</td>\n",
       "    </tr>\n",
       "    <tr>\n",
       "      <td>...</td>\n",
       "      <td>...</td>\n",
       "      <td>...</td>\n",
       "    </tr>\n",
       "    <tr>\n",
       "      <td>78</td>\n",
       "      <td>\"Disappearing Ink\"</td>\n",
       "      <td>Material</td>\n",
       "    </tr>\n",
       "    <tr>\n",
       "      <td>79</td>\n",
       "      <td>\"Flying Car\"</td>\n",
       "      <td>Material</td>\n",
       "    </tr>\n",
       "    <tr>\n",
       "      <td>80</td>\n",
       "      <td>\"Phone Case Design\"</td>\n",
       "      <td>Structural</td>\n",
       "    </tr>\n",
       "    <tr>\n",
       "      <td>81</td>\n",
       "      <td>\"Extending Table Legs\"</td>\n",
       "      <td>Structural</td>\n",
       "    </tr>\n",
       "    <tr>\n",
       "      <td>82</td>\n",
       "      <td>Thumbtack</td>\n",
       "      <td>Material</td>\n",
       "    </tr>\n",
       "  </tbody>\n",
       "</table>\n",
       "<p>83 rows × 2 columns</p>\n",
       "</div>"
      ],
      "text/plain": [
       "                 productName patentNature\n",
       "0         \"Beeswax Lip Balm\"   Structural\n",
       "1            \"Paint Markers\"   Structural\n",
       "2                       Boat     Material\n",
       "3    \"Insulated Waterbottle\"   Structural\n",
       "4   \"Transforming Earphones\"     Material\n",
       "..                       ...          ...\n",
       "78        \"Disappearing Ink\"     Material\n",
       "79              \"Flying Car\"     Material\n",
       "80       \"Phone Case Design\"   Structural\n",
       "81    \"Extending Table Legs\"   Structural\n",
       "82                 Thumbtack     Material\n",
       "\n",
       "[83 rows x 2 columns]"
      ]
     },
     "execution_count": 6,
     "metadata": {},
     "output_type": "execute_result"
    }
   ],
   "source": [
    "network=df[['businessSize', 'productName']]\n",
    "points=df[['productName','patentNature']]\n",
    "points"
   ]
  },
  {
   "cell_type": "code",
   "execution_count": 11,
   "metadata": {},
   "outputs": [],
   "source": [
    "points.insert(2,'size',1)"
   ]
  },
  {
   "cell_type": "code",
   "execution_count": 12,
   "metadata": {},
   "outputs": [
    {
     "data": {
      "text/html": [
       "<div>\n",
       "<style scoped>\n",
       "    .dataframe tbody tr th:only-of-type {\n",
       "        vertical-align: middle;\n",
       "    }\n",
       "\n",
       "    .dataframe tbody tr th {\n",
       "        vertical-align: top;\n",
       "    }\n",
       "\n",
       "    .dataframe thead th {\n",
       "        text-align: right;\n",
       "    }\n",
       "</style>\n",
       "<table border=\"1\" class=\"dataframe\">\n",
       "  <thead>\n",
       "    <tr style=\"text-align: right;\">\n",
       "      <th></th>\n",
       "      <th>productName</th>\n",
       "      <th>patentNature</th>\n",
       "      <th>size</th>\n",
       "    </tr>\n",
       "  </thead>\n",
       "  <tbody>\n",
       "    <tr>\n",
       "      <td>0</td>\n",
       "      <td>\"Beeswax Lip Balm\"</td>\n",
       "      <td>Structural</td>\n",
       "      <td>1</td>\n",
       "    </tr>\n",
       "    <tr>\n",
       "      <td>1</td>\n",
       "      <td>\"Paint Markers\"</td>\n",
       "      <td>Structural</td>\n",
       "      <td>1</td>\n",
       "    </tr>\n",
       "    <tr>\n",
       "      <td>2</td>\n",
       "      <td>Boat</td>\n",
       "      <td>Material</td>\n",
       "      <td>1</td>\n",
       "    </tr>\n",
       "    <tr>\n",
       "      <td>3</td>\n",
       "      <td>\"Insulated Waterbottle\"</td>\n",
       "      <td>Structural</td>\n",
       "      <td>1</td>\n",
       "    </tr>\n",
       "    <tr>\n",
       "      <td>4</td>\n",
       "      <td>\"Transforming Earphones\"</td>\n",
       "      <td>Material</td>\n",
       "      <td>1</td>\n",
       "    </tr>\n",
       "    <tr>\n",
       "      <td>...</td>\n",
       "      <td>...</td>\n",
       "      <td>...</td>\n",
       "      <td>...</td>\n",
       "    </tr>\n",
       "    <tr>\n",
       "      <td>78</td>\n",
       "      <td>\"Disappearing Ink\"</td>\n",
       "      <td>Material</td>\n",
       "      <td>1</td>\n",
       "    </tr>\n",
       "    <tr>\n",
       "      <td>79</td>\n",
       "      <td>\"Flying Car\"</td>\n",
       "      <td>Material</td>\n",
       "      <td>1</td>\n",
       "    </tr>\n",
       "    <tr>\n",
       "      <td>80</td>\n",
       "      <td>\"Phone Case Design\"</td>\n",
       "      <td>Structural</td>\n",
       "      <td>1</td>\n",
       "    </tr>\n",
       "    <tr>\n",
       "      <td>81</td>\n",
       "      <td>\"Extending Table Legs\"</td>\n",
       "      <td>Structural</td>\n",
       "      <td>1</td>\n",
       "    </tr>\n",
       "    <tr>\n",
       "      <td>82</td>\n",
       "      <td>Thumbtack</td>\n",
       "      <td>Material</td>\n",
       "      <td>1</td>\n",
       "    </tr>\n",
       "  </tbody>\n",
       "</table>\n",
       "<p>83 rows × 3 columns</p>\n",
       "</div>"
      ],
      "text/plain": [
       "                 productName patentNature  size\n",
       "0         \"Beeswax Lip Balm\"   Structural     1\n",
       "1            \"Paint Markers\"   Structural     1\n",
       "2                       Boat     Material     1\n",
       "3    \"Insulated Waterbottle\"   Structural     1\n",
       "4   \"Transforming Earphones\"     Material     1\n",
       "..                       ...          ...   ...\n",
       "78        \"Disappearing Ink\"     Material     1\n",
       "79              \"Flying Car\"     Material     1\n",
       "80       \"Phone Case Design\"   Structural     1\n",
       "81    \"Extending Table Legs\"   Structural     1\n",
       "82                 Thumbtack     Material     1\n",
       "\n",
       "[83 rows x 3 columns]"
      ]
     },
     "execution_count": 12,
     "metadata": {},
     "output_type": "execute_result"
    }
   ],
   "source": [
    "df.businessSize.value_counts()\n",
    "points"
   ]
  },
  {
   "cell_type": "code",
   "execution_count": 13,
   "metadata": {},
   "outputs": [],
   "source": [
    "points=points.append({'productName':'Small','patentNature':'Size','size':len(df[df['businessSize']=='Small'])}, ignore_index=True)\n",
    "points=points.append({'productName':'Medium','patentNature':'Size','size':len(df[df['businessSize']=='Medium'])}, ignore_index=True)\n",
    "points=points.append({'productName':'Large','patentNature':'Size','size':len(df[df['businessSize']=='Large'])}, ignore_index=True)\n",
    "points=points.append({'productName':'Independent','patentNature':'Size','size':len(df[df['businessSize']=='Independent'])}, ignore_index=True)"
   ]
  },
  {
   "cell_type": "code",
   "execution_count": 14,
   "metadata": {},
   "outputs": [
    {
     "data": {
      "text/html": [
       "<div>\n",
       "<style scoped>\n",
       "    .dataframe tbody tr th:only-of-type {\n",
       "        vertical-align: middle;\n",
       "    }\n",
       "\n",
       "    .dataframe tbody tr th {\n",
       "        vertical-align: top;\n",
       "    }\n",
       "\n",
       "    .dataframe thead th {\n",
       "        text-align: right;\n",
       "    }\n",
       "</style>\n",
       "<table border=\"1\" class=\"dataframe\">\n",
       "  <thead>\n",
       "    <tr style=\"text-align: right;\">\n",
       "      <th></th>\n",
       "      <th>productName</th>\n",
       "      <th>patentNature</th>\n",
       "      <th>size</th>\n",
       "    </tr>\n",
       "  </thead>\n",
       "  <tbody>\n",
       "    <tr>\n",
       "      <td>72</td>\n",
       "      <td>Flashlight</td>\n",
       "      <td>Material</td>\n",
       "      <td>1</td>\n",
       "    </tr>\n",
       "    <tr>\n",
       "      <td>73</td>\n",
       "      <td>\"Flaming Cars\"</td>\n",
       "      <td>Material</td>\n",
       "      <td>1</td>\n",
       "    </tr>\n",
       "    <tr>\n",
       "      <td>74</td>\n",
       "      <td>\"Corn Plant\"</td>\n",
       "      <td>Chemical</td>\n",
       "      <td>1</td>\n",
       "    </tr>\n",
       "    <tr>\n",
       "      <td>75</td>\n",
       "      <td>\"Indigo Food Coloing\"</td>\n",
       "      <td>Chemical</td>\n",
       "      <td>1</td>\n",
       "    </tr>\n",
       "    <tr>\n",
       "      <td>76</td>\n",
       "      <td>\"Bluetooth Mouse\"</td>\n",
       "      <td>Structural</td>\n",
       "      <td>1</td>\n",
       "    </tr>\n",
       "    <tr>\n",
       "      <td>77</td>\n",
       "      <td>\"Corn Harvester\"</td>\n",
       "      <td>Structural</td>\n",
       "      <td>1</td>\n",
       "    </tr>\n",
       "    <tr>\n",
       "      <td>78</td>\n",
       "      <td>\"Disappearing Ink\"</td>\n",
       "      <td>Material</td>\n",
       "      <td>1</td>\n",
       "    </tr>\n",
       "    <tr>\n",
       "      <td>79</td>\n",
       "      <td>\"Flying Car\"</td>\n",
       "      <td>Material</td>\n",
       "      <td>1</td>\n",
       "    </tr>\n",
       "    <tr>\n",
       "      <td>80</td>\n",
       "      <td>\"Phone Case Design\"</td>\n",
       "      <td>Structural</td>\n",
       "      <td>1</td>\n",
       "    </tr>\n",
       "    <tr>\n",
       "      <td>81</td>\n",
       "      <td>\"Extending Table Legs\"</td>\n",
       "      <td>Structural</td>\n",
       "      <td>1</td>\n",
       "    </tr>\n",
       "    <tr>\n",
       "      <td>82</td>\n",
       "      <td>Thumbtack</td>\n",
       "      <td>Material</td>\n",
       "      <td>1</td>\n",
       "    </tr>\n",
       "    <tr>\n",
       "      <td>83</td>\n",
       "      <td>Small</td>\n",
       "      <td>Size</td>\n",
       "      <td>17</td>\n",
       "    </tr>\n",
       "    <tr>\n",
       "      <td>84</td>\n",
       "      <td>Medium</td>\n",
       "      <td>Size</td>\n",
       "      <td>18</td>\n",
       "    </tr>\n",
       "    <tr>\n",
       "      <td>85</td>\n",
       "      <td>Large</td>\n",
       "      <td>Size</td>\n",
       "      <td>39</td>\n",
       "    </tr>\n",
       "    <tr>\n",
       "      <td>86</td>\n",
       "      <td>Independent</td>\n",
       "      <td>Size</td>\n",
       "      <td>9</td>\n",
       "    </tr>\n",
       "  </tbody>\n",
       "</table>\n",
       "</div>"
      ],
      "text/plain": [
       "               productName patentNature  size\n",
       "72              Flashlight     Material     1\n",
       "73          \"Flaming Cars\"     Material     1\n",
       "74            \"Corn Plant\"     Chemical     1\n",
       "75   \"Indigo Food Coloing\"     Chemical     1\n",
       "76       \"Bluetooth Mouse\"   Structural     1\n",
       "77        \"Corn Harvester\"   Structural     1\n",
       "78      \"Disappearing Ink\"     Material     1\n",
       "79            \"Flying Car\"     Material     1\n",
       "80     \"Phone Case Design\"   Structural     1\n",
       "81  \"Extending Table Legs\"   Structural     1\n",
       "82               Thumbtack     Material     1\n",
       "83                   Small         Size    17\n",
       "84                  Medium         Size    18\n",
       "85                   Large         Size    39\n",
       "86             Independent         Size     9"
      ]
     },
     "execution_count": 14,
     "metadata": {},
     "output_type": "execute_result"
    }
   ],
   "source": [
    "points.tail(15)"
   ]
  },
  {
   "cell_type": "code",
   "execution_count": 15,
   "metadata": {},
   "outputs": [],
   "source": [
    "points.to_csv('points.csv')\n",
    "network.to_csv('links.csv')"
   ]
  },
  {
   "cell_type": "code",
   "execution_count": 36,
   "metadata": {},
   "outputs": [],
   "source": [
    "df=df[df['patentNature']!='0']\n",
    "B=df[df['businessSize']=='Small'].patentNature.value_counts()\n",
    "C=df[df['businessSize']=='Medium'].patentNature.value_counts()\n",
    "D=df[df['businessSize']=='Large'].patentNature.value_counts()\n",
    "E=df[df['businessSize']=='Independent'].patentNature.value_counts()\n",
    "A=['Structural','Material','Chemical']\n",
    "\n",
    "fd=pd.DataFrame({'Small':B,'Medium':C,'Large':D,'Independent':E})"
   ]
  },
  {
   "cell_type": "code",
   "execution_count": 37,
   "metadata": {},
   "outputs": [
    {
     "data": {
      "text/html": [
       "<div>\n",
       "<style scoped>\n",
       "    .dataframe tbody tr th:only-of-type {\n",
       "        vertical-align: middle;\n",
       "    }\n",
       "\n",
       "    .dataframe tbody tr th {\n",
       "        vertical-align: top;\n",
       "    }\n",
       "\n",
       "    .dataframe thead th {\n",
       "        text-align: right;\n",
       "    }\n",
       "</style>\n",
       "<table border=\"1\" class=\"dataframe\">\n",
       "  <thead>\n",
       "    <tr style=\"text-align: right;\">\n",
       "      <th></th>\n",
       "      <th>Small</th>\n",
       "      <th>Medium</th>\n",
       "      <th>Large</th>\n",
       "      <th>Independent</th>\n",
       "    </tr>\n",
       "  </thead>\n",
       "  <tbody>\n",
       "    <tr>\n",
       "      <td>Chemical</td>\n",
       "      <td>5</td>\n",
       "      <td>6</td>\n",
       "      <td>5</td>\n",
       "      <td>2</td>\n",
       "    </tr>\n",
       "    <tr>\n",
       "      <td>Material</td>\n",
       "      <td>6</td>\n",
       "      <td>9</td>\n",
       "      <td>15</td>\n",
       "      <td>6</td>\n",
       "    </tr>\n",
       "    <tr>\n",
       "      <td>Structural</td>\n",
       "      <td>6</td>\n",
       "      <td>3</td>\n",
       "      <td>18</td>\n",
       "      <td>1</td>\n",
       "    </tr>\n",
       "  </tbody>\n",
       "</table>\n",
       "</div>"
      ],
      "text/plain": [
       "            Small  Medium  Large  Independent\n",
       "Chemical        5       6      5            2\n",
       "Material        6       9     15            6\n",
       "Structural      6       3     18            1"
      ]
     },
     "execution_count": 37,
     "metadata": {},
     "output_type": "execute_result"
    }
   ],
   "source": [
    "fd"
   ]
  },
  {
   "cell_type": "code",
   "execution_count": 38,
   "metadata": {},
   "outputs": [],
   "source": [
    "fd.to_csv('pie.csv')"
   ]
  },
  {
   "cell_type": "markdown",
   "metadata": {},
   "source": [
    "# Patent Nature by Company Size"
   ]
  },
  {
   "cell_type": "code",
   "execution_count": 39,
   "metadata": {},
   "outputs": [
    {
     "data": {
      "text/html": [
       "\n",
       "        <iframe\n",
       "            width=\"900\"\n",
       "            height=\"800\"\n",
       "            src=\"https://public.flourish.studio/visualisation/1237847/?frameborder=0&scrolling=no\"\n",
       "            frameborder=\"0\"\n",
       "            allowfullscreen\n",
       "        ></iframe>\n",
       "        "
      ],
      "text/plain": [
       "<IPython.lib.display.IFrame at 0x11d54ba50>"
      ]
     },
     "metadata": {},
     "output_type": "display_data"
    }
   ],
   "source": [
    "\n",
    "display(IFrame('https://public.flourish.studio/visualisation/1237847/',width=900, height=800, frameborder=0, scrolling=\"no\"))"
   ]
  },
  {
   "cell_type": "code",
   "execution_count": 11,
   "metadata": {},
   "outputs": [
    {
     "name": "stdout",
     "output_type": "stream",
     "text": [
      "{\"patents\":[{\"patent_type\":\"utility\"},{\"patent_type\":\"utility\"},{\"patent_type\":\"utility\"},{\"patent_type\":\"utility\"},{\"patent_type\":\"utility\"},{\"patent_type\":\"utility\"},{\"patent_type\":\"utility\"},{\"patent_type\":\"utility\"},{\"patent_type\":\"utility\"},{\"patent_type\":\"utility\"},{\"patent_type\":\"utility\"},{\"patent_type\":\"utility\"},{\"patent_type\":\"utility\"},{\"patent_type\":\"utility\"},{\"patent_type\":\"utility\"},{\"patent_type\":\"utility\"},{\"patent_type\":\"utility\"},{\"patent_type\":\"utility\"},{\"patent_type\":\"utility\"},{\"patent_type\":\"utility\"},{\"patent_type\":\"utility\"},{\"patent_type\":\"utility\"},{\"patent_type\":\"utility\"},{\"patent_type\":\"utility\"},{\"patent_type\":\"utility\"},{\"patent_type\":\"utility\"},{\"patent_type\":\"utility\"},{\"patent_type\":\"utility\"},{\"patent_type\":\"utility\"},{\"patent_type\":\"utility\"},{\"patent_type\":\"utility\"},{\"patent_type\":\"utility\"},{\"patent_type\":\"utility\"},{\"patent_type\":\"utility\"},{\"patent_type\":\"utility\"},{\"patent_type\":\"utility\"},{\"patent_type\":\"utility\"},{\"patent_type\":\"utility\"},{\"patent_type\":\"utility\"},{\"patent_type\":\"utility\"},{\"patent_type\":\"utility\"},{\"patent_type\":\"utility\"},{\"patent_type\":\"utility\"},{\"patent_type\":\"utility\"},{\"patent_type\":\"utility\"},{\"patent_type\":\"utility\"},{\"patent_type\":\"utility\"},{\"patent_type\":\"utility\"},{\"patent_type\":\"utility\"},{\"patent_type\":\"utility\"}],\"count\":50,\"total_patent_count\":100000}\n",
      "{\"patents\":[{\"patent_type\":\"utility\"},{\"patent_type\":\"utility\"},{\"patent_type\":\"utility\"},{\"patent_type\":\"utility\"},{\"patent_type\":\"utility\"},{\"patent_type\":\"utility\"},{\"patent_type\":\"utility\"},{\"patent_type\":\"utility\"},{\"patent_type\":\"utility\"},{\"patent_type\":\"utility\"},{\"patent_type\":\"utility\"},{\"patent_type\":\"utility\"},{\"patent_type\":\"utility\"},{\"patent_type\":\"utility\"},{\"patent_type\":\"utility\"},{\"patent_type\":\"utility\"},{\"patent_type\":\"utility\"},{\"patent_type\":\"utility\"},{\"patent_type\":\"utility\"},{\"patent_type\":\"utility\"},{\"patent_type\":\"utility\"},{\"patent_type\":\"utility\"},{\"patent_type\":\"utility\"},{\"patent_type\":\"utility\"},{\"patent_type\":\"utility\"},{\"patent_type\":\"utility\"},{\"patent_type\":\"utility\"},{\"patent_type\":\"utility\"},{\"patent_type\":\"utility\"},{\"patent_type\":\"utility\"},{\"patent_type\":\"utility\"},{\"patent_type\":\"utility\"},{\"patent_type\":\"utility\"},{\"patent_type\":\"utility\"},{\"patent_type\":\"utility\"},{\"patent_type\":\"utility\"},{\"patent_type\":\"utility\"},{\"patent_type\":\"utility\"},{\"patent_type\":\"utility\"},{\"patent_type\":\"utility\"},{\"patent_type\":\"utility\"},{\"patent_type\":\"utility\"},{\"patent_type\":\"utility\"},{\"patent_type\":\"utility\"},{\"patent_type\":\"utility\"},{\"patent_type\":\"utility\"},{\"patent_type\":\"utility\"},{\"patent_type\":\"utility\"},{\"patent_type\":\"utility\"},{\"patent_type\":\"utility\"}],\"count\":50,\"total_patent_count\":100000}\n",
      "{\"patents\":[{\"patent_type\":\"utility\"},{\"patent_type\":\"utility\"},{\"patent_type\":\"utility\"},{\"patent_type\":\"utility\"},{\"patent_type\":\"utility\"},{\"patent_type\":\"utility\"},{\"patent_type\":\"utility\"},{\"patent_type\":\"utility\"},{\"patent_type\":\"utility\"},{\"patent_type\":\"utility\"},{\"patent_type\":\"utility\"},{\"patent_type\":\"utility\"},{\"patent_type\":\"utility\"},{\"patent_type\":\"utility\"},{\"patent_type\":\"utility\"},{\"patent_type\":\"utility\"},{\"patent_type\":\"utility\"},{\"patent_type\":\"utility\"},{\"patent_type\":\"utility\"},{\"patent_type\":\"utility\"},{\"patent_type\":\"utility\"},{\"patent_type\":\"utility\"},{\"patent_type\":\"utility\"},{\"patent_type\":\"utility\"},{\"patent_type\":\"utility\"},{\"patent_type\":\"utility\"},{\"patent_type\":\"utility\"},{\"patent_type\":\"utility\"},{\"patent_type\":\"utility\"},{\"patent_type\":\"utility\"},{\"patent_type\":\"utility\"},{\"patent_type\":\"utility\"},{\"patent_type\":\"utility\"},{\"patent_type\":\"utility\"},{\"patent_type\":\"utility\"},{\"patent_type\":\"utility\"},{\"patent_type\":\"utility\"},{\"patent_type\":\"utility\"},{\"patent_type\":\"utility\"},{\"patent_type\":\"utility\"},{\"patent_type\":\"utility\"},{\"patent_type\":\"utility\"},{\"patent_type\":\"utility\"},{\"patent_type\":\"utility\"},{\"patent_type\":\"utility\"},{\"patent_type\":\"utility\"},{\"patent_type\":\"utility\"},{\"patent_type\":\"utility\"},{\"patent_type\":\"utility\"},{\"patent_type\":\"utility\"}],\"count\":50,\"total_patent_count\":100000}\n",
      "{\"patents\":[{\"patent_type\":\"utility\"},{\"patent_type\":\"utility\"},{\"patent_type\":\"utility\"},{\"patent_type\":\"utility\"},{\"patent_type\":\"utility\"},{\"patent_type\":\"utility\"},{\"patent_type\":\"utility\"},{\"patent_type\":\"utility\"},{\"patent_type\":\"utility\"},{\"patent_type\":\"utility\"},{\"patent_type\":\"utility\"},{\"patent_type\":\"utility\"},{\"patent_type\":\"utility\"},{\"patent_type\":\"utility\"},{\"patent_type\":\"utility\"},{\"patent_type\":\"utility\"},{\"patent_type\":\"utility\"},{\"patent_type\":\"utility\"},{\"patent_type\":\"utility\"},{\"patent_type\":\"utility\"},{\"patent_type\":\"utility\"},{\"patent_type\":\"utility\"},{\"patent_type\":\"utility\"},{\"patent_type\":\"utility\"},{\"patent_type\":\"utility\"},{\"patent_type\":\"utility\"},{\"patent_type\":\"utility\"},{\"patent_type\":\"utility\"},{\"patent_type\":\"utility\"},{\"patent_type\":\"utility\"},{\"patent_type\":\"utility\"},{\"patent_type\":\"utility\"},{\"patent_type\":\"utility\"},{\"patent_type\":\"utility\"},{\"patent_type\":\"utility\"},{\"patent_type\":\"utility\"},{\"patent_type\":\"utility\"},{\"patent_type\":\"utility\"},{\"patent_type\":\"utility\"},{\"patent_type\":\"utility\"},{\"patent_type\":\"utility\"},{\"patent_type\":\"utility\"},{\"patent_type\":\"utility\"},{\"patent_type\":\"utility\"},{\"patent_type\":\"utility\"},{\"patent_type\":\"utility\"},{\"patent_type\":\"utility\"},{\"patent_type\":\"utility\"},{\"patent_type\":\"utility\"},{\"patent_type\":\"utility\"}],\"count\":50,\"total_patent_count\":100000}\n",
      "{\"patents\":[{\"patent_type\":\"utility\"},{\"patent_type\":\"utility\"},{\"patent_type\":\"utility\"},{\"patent_type\":\"utility\"},{\"patent_type\":\"utility\"},{\"patent_type\":\"utility\"},{\"patent_type\":\"utility\"},{\"patent_type\":\"utility\"},{\"patent_type\":\"utility\"},{\"patent_type\":\"utility\"},{\"patent_type\":\"utility\"},{\"patent_type\":\"utility\"},{\"patent_type\":\"utility\"},{\"patent_type\":\"utility\"},{\"patent_type\":\"utility\"},{\"patent_type\":\"utility\"},{\"patent_type\":\"utility\"},{\"patent_type\":\"utility\"},{\"patent_type\":\"utility\"},{\"patent_type\":\"utility\"},{\"patent_type\":\"utility\"},{\"patent_type\":\"utility\"},{\"patent_type\":\"utility\"},{\"patent_type\":\"utility\"},{\"patent_type\":\"utility\"},{\"patent_type\":\"utility\"},{\"patent_type\":\"utility\"},{\"patent_type\":\"utility\"},{\"patent_type\":\"utility\"},{\"patent_type\":\"utility\"},{\"patent_type\":\"utility\"},{\"patent_type\":\"utility\"},{\"patent_type\":\"utility\"},{\"patent_type\":\"utility\"},{\"patent_type\":\"utility\"},{\"patent_type\":\"utility\"},{\"patent_type\":\"utility\"},{\"patent_type\":\"utility\"},{\"patent_type\":\"utility\"},{\"patent_type\":\"utility\"},{\"patent_type\":\"utility\"},{\"patent_type\":\"utility\"},{\"patent_type\":\"utility\"},{\"patent_type\":\"utility\"},{\"patent_type\":\"utility\"},{\"patent_type\":\"utility\"},{\"patent_type\":\"utility\"},{\"patent_type\":\"utility\"},{\"patent_type\":\"utility\"},{\"patent_type\":\"utility\"}],\"count\":50,\"total_patent_count\":100000}\n",
      "{\"patents\":[{\"patent_type\":\"utility\"},{\"patent_type\":\"utility\"},{\"patent_type\":\"utility\"},{\"patent_type\":\"utility\"},{\"patent_type\":\"utility\"},{\"patent_type\":\"utility\"},{\"patent_type\":\"utility\"},{\"patent_type\":\"utility\"},{\"patent_type\":\"utility\"},{\"patent_type\":\"utility\"},{\"patent_type\":\"utility\"},{\"patent_type\":\"utility\"},{\"patent_type\":\"utility\"},{\"patent_type\":\"utility\"},{\"patent_type\":\"utility\"},{\"patent_type\":\"utility\"},{\"patent_type\":\"utility\"},{\"patent_type\":\"utility\"},{\"patent_type\":\"utility\"},{\"patent_type\":\"utility\"},{\"patent_type\":\"utility\"},{\"patent_type\":\"utility\"},{\"patent_type\":\"utility\"},{\"patent_type\":\"utility\"},{\"patent_type\":\"utility\"},{\"patent_type\":\"utility\"},{\"patent_type\":\"utility\"},{\"patent_type\":\"utility\"},{\"patent_type\":\"utility\"},{\"patent_type\":\"utility\"},{\"patent_type\":\"utility\"},{\"patent_type\":\"utility\"},{\"patent_type\":\"utility\"},{\"patent_type\":\"utility\"},{\"patent_type\":\"utility\"},{\"patent_type\":\"utility\"},{\"patent_type\":\"utility\"},{\"patent_type\":\"utility\"},{\"patent_type\":\"utility\"},{\"patent_type\":\"utility\"},{\"patent_type\":\"utility\"},{\"patent_type\":\"utility\"},{\"patent_type\":\"utility\"},{\"patent_type\":\"utility\"},{\"patent_type\":\"utility\"},{\"patent_type\":\"utility\"},{\"patent_type\":\"utility\"},{\"patent_type\":\"utility\"},{\"patent_type\":\"utility\"},{\"patent_type\":\"utility\"}],\"count\":50,\"total_patent_count\":100000}\n",
      "{\"patents\":[{\"patent_type\":\"utility\"},{\"patent_type\":\"utility\"},{\"patent_type\":\"utility\"},{\"patent_type\":\"utility\"},{\"patent_type\":\"utility\"},{\"patent_type\":\"utility\"},{\"patent_type\":\"utility\"},{\"patent_type\":\"utility\"},{\"patent_type\":\"utility\"},{\"patent_type\":\"utility\"},{\"patent_type\":\"utility\"},{\"patent_type\":\"utility\"},{\"patent_type\":\"utility\"},{\"patent_type\":\"utility\"},{\"patent_type\":\"utility\"},{\"patent_type\":\"utility\"},{\"patent_type\":\"utility\"},{\"patent_type\":\"utility\"},{\"patent_type\":\"utility\"},{\"patent_type\":\"utility\"},{\"patent_type\":\"utility\"},{\"patent_type\":\"utility\"},{\"patent_type\":\"utility\"},{\"patent_type\":\"utility\"},{\"patent_type\":\"utility\"},{\"patent_type\":\"utility\"},{\"patent_type\":\"utility\"},{\"patent_type\":\"utility\"},{\"patent_type\":\"utility\"},{\"patent_type\":\"utility\"},{\"patent_type\":\"utility\"},{\"patent_type\":\"utility\"},{\"patent_type\":\"utility\"},{\"patent_type\":\"utility\"},{\"patent_type\":\"utility\"},{\"patent_type\":\"utility\"},{\"patent_type\":\"utility\"},{\"patent_type\":\"utility\"},{\"patent_type\":\"utility\"},{\"patent_type\":\"utility\"},{\"patent_type\":\"utility\"},{\"patent_type\":\"utility\"},{\"patent_type\":\"utility\"},{\"patent_type\":\"utility\"},{\"patent_type\":\"utility\"},{\"patent_type\":\"utility\"},{\"patent_type\":\"utility\"},{\"patent_type\":\"utility\"},{\"patent_type\":\"utility\"},{\"patent_type\":\"utility\"}],\"count\":50,\"total_patent_count\":100000}\n"
     ]
    },
    {
     "name": "stdout",
     "output_type": "stream",
     "text": [
      "{\"patents\":[{\"patent_type\":\"utility\"},{\"patent_type\":\"utility\"},{\"patent_type\":\"utility\"},{\"patent_type\":\"utility\"},{\"patent_type\":\"utility\"},{\"patent_type\":\"utility\"},{\"patent_type\":\"utility\"},{\"patent_type\":\"utility\"},{\"patent_type\":\"utility\"},{\"patent_type\":\"utility\"},{\"patent_type\":\"utility\"},{\"patent_type\":\"utility\"},{\"patent_type\":\"utility\"},{\"patent_type\":\"utility\"},{\"patent_type\":\"utility\"},{\"patent_type\":\"utility\"},{\"patent_type\":\"utility\"},{\"patent_type\":\"utility\"},{\"patent_type\":\"utility\"},{\"patent_type\":\"utility\"},{\"patent_type\":\"utility\"},{\"patent_type\":\"utility\"},{\"patent_type\":\"utility\"},{\"patent_type\":\"utility\"},{\"patent_type\":\"utility\"},{\"patent_type\":\"utility\"},{\"patent_type\":\"utility\"},{\"patent_type\":\"utility\"},{\"patent_type\":\"utility\"},{\"patent_type\":\"utility\"},{\"patent_type\":\"utility\"},{\"patent_type\":\"utility\"},{\"patent_type\":\"utility\"},{\"patent_type\":\"utility\"},{\"patent_type\":\"utility\"},{\"patent_type\":\"utility\"},{\"patent_type\":\"utility\"},{\"patent_type\":\"utility\"},{\"patent_type\":\"utility\"},{\"patent_type\":\"utility\"},{\"patent_type\":\"utility\"},{\"patent_type\":\"utility\"},{\"patent_type\":\"utility\"},{\"patent_type\":\"utility\"},{\"patent_type\":\"utility\"},{\"patent_type\":\"utility\"},{\"patent_type\":\"utility\"},{\"patent_type\":\"utility\"},{\"patent_type\":\"utility\"},{\"patent_type\":\"utility\"}],\"count\":50,\"total_patent_count\":100000}\n",
      "{\"patents\":[{\"patent_type\":\"utility\"},{\"patent_type\":\"utility\"},{\"patent_type\":\"utility\"},{\"patent_type\":\"utility\"},{\"patent_type\":\"utility\"},{\"patent_type\":\"utility\"},{\"patent_type\":\"utility\"},{\"patent_type\":\"utility\"},{\"patent_type\":\"utility\"},{\"patent_type\":\"utility\"},{\"patent_type\":\"utility\"},{\"patent_type\":\"utility\"},{\"patent_type\":\"utility\"},{\"patent_type\":\"utility\"},{\"patent_type\":\"utility\"},{\"patent_type\":\"utility\"},{\"patent_type\":\"utility\"},{\"patent_type\":\"utility\"},{\"patent_type\":\"utility\"},{\"patent_type\":\"utility\"},{\"patent_type\":\"utility\"},{\"patent_type\":\"utility\"},{\"patent_type\":\"utility\"},{\"patent_type\":\"utility\"},{\"patent_type\":\"utility\"},{\"patent_type\":\"utility\"},{\"patent_type\":\"utility\"},{\"patent_type\":\"utility\"},{\"patent_type\":\"utility\"},{\"patent_type\":\"utility\"},{\"patent_type\":\"utility\"},{\"patent_type\":\"utility\"},{\"patent_type\":\"utility\"},{\"patent_type\":\"utility\"},{\"patent_type\":\"utility\"},{\"patent_type\":\"utility\"},{\"patent_type\":\"utility\"},{\"patent_type\":\"utility\"},{\"patent_type\":\"utility\"},{\"patent_type\":\"utility\"},{\"patent_type\":\"utility\"},{\"patent_type\":\"utility\"},{\"patent_type\":\"utility\"},{\"patent_type\":\"utility\"},{\"patent_type\":\"utility\"},{\"patent_type\":\"utility\"},{\"patent_type\":\"utility\"},{\"patent_type\":\"utility\"},{\"patent_type\":\"utility\"},{\"patent_type\":\"utility\"}],\"count\":50,\"total_patent_count\":100000}\n",
      "{\"patents\":[{\"patent_type\":\"utility\"},{\"patent_type\":\"utility\"},{\"patent_type\":\"utility\"},{\"patent_type\":\"utility\"},{\"patent_type\":\"utility\"},{\"patent_type\":\"utility\"},{\"patent_type\":\"utility\"},{\"patent_type\":\"utility\"},{\"patent_type\":\"utility\"},{\"patent_type\":\"utility\"},{\"patent_type\":\"utility\"},{\"patent_type\":\"utility\"},{\"patent_type\":\"utility\"},{\"patent_type\":\"utility\"},{\"patent_type\":\"utility\"},{\"patent_type\":\"utility\"},{\"patent_type\":\"utility\"},{\"patent_type\":\"utility\"},{\"patent_type\":\"utility\"},{\"patent_type\":\"utility\"},{\"patent_type\":\"utility\"},{\"patent_type\":\"utility\"},{\"patent_type\":\"utility\"},{\"patent_type\":\"utility\"},{\"patent_type\":\"utility\"},{\"patent_type\":\"utility\"},{\"patent_type\":\"utility\"},{\"patent_type\":\"utility\"},{\"patent_type\":\"utility\"},{\"patent_type\":\"utility\"},{\"patent_type\":\"utility\"},{\"patent_type\":\"utility\"},{\"patent_type\":\"utility\"},{\"patent_type\":\"utility\"},{\"patent_type\":\"utility\"},{\"patent_type\":\"utility\"},{\"patent_type\":\"utility\"},{\"patent_type\":\"utility\"},{\"patent_type\":\"utility\"},{\"patent_type\":\"utility\"},{\"patent_type\":\"utility\"},{\"patent_type\":\"utility\"},{\"patent_type\":\"utility\"},{\"patent_type\":\"utility\"},{\"patent_type\":\"utility\"},{\"patent_type\":\"utility\"},{\"patent_type\":\"utility\"},{\"patent_type\":\"utility\"},{\"patent_type\":\"utility\"},{\"patent_type\":\"utility\"}],\"count\":50,\"total_patent_count\":100000}\n",
      "{\"patents\":[{\"patent_type\":\"utility\"},{\"patent_type\":\"utility\"},{\"patent_type\":\"utility\"},{\"patent_type\":\"utility\"},{\"patent_type\":\"utility\"},{\"patent_type\":\"utility\"},{\"patent_type\":\"utility\"},{\"patent_type\":\"utility\"},{\"patent_type\":\"utility\"},{\"patent_type\":\"utility\"},{\"patent_type\":\"utility\"},{\"patent_type\":\"utility\"},{\"patent_type\":\"utility\"},{\"patent_type\":\"utility\"},{\"patent_type\":\"utility\"},{\"patent_type\":\"utility\"},{\"patent_type\":\"utility\"},{\"patent_type\":\"utility\"},{\"patent_type\":\"utility\"},{\"patent_type\":\"utility\"},{\"patent_type\":\"utility\"},{\"patent_type\":\"utility\"},{\"patent_type\":\"utility\"},{\"patent_type\":\"utility\"},{\"patent_type\":\"utility\"},{\"patent_type\":\"utility\"},{\"patent_type\":\"utility\"},{\"patent_type\":\"utility\"},{\"patent_type\":\"utility\"},{\"patent_type\":\"utility\"},{\"patent_type\":\"utility\"},{\"patent_type\":\"utility\"},{\"patent_type\":\"utility\"},{\"patent_type\":\"utility\"},{\"patent_type\":\"utility\"},{\"patent_type\":\"utility\"},{\"patent_type\":\"utility\"},{\"patent_type\":\"utility\"},{\"patent_type\":\"utility\"},{\"patent_type\":\"utility\"},{\"patent_type\":\"utility\"},{\"patent_type\":\"utility\"},{\"patent_type\":\"utility\"},{\"patent_type\":\"utility\"},{\"patent_type\":\"utility\"},{\"patent_type\":\"utility\"},{\"patent_type\":\"utility\"},{\"patent_type\":\"utility\"},{\"patent_type\":\"utility\"},{\"patent_type\":\"utility\"}],\"count\":50,\"total_patent_count\":100000}\n",
      "{\"patents\":[{\"patent_type\":\"utility\"},{\"patent_type\":\"utility\"},{\"patent_type\":\"utility\"},{\"patent_type\":\"utility\"},{\"patent_type\":\"utility\"},{\"patent_type\":\"utility\"},{\"patent_type\":\"utility\"},{\"patent_type\":\"utility\"},{\"patent_type\":\"utility\"},{\"patent_type\":\"utility\"},{\"patent_type\":\"utility\"},{\"patent_type\":\"utility\"},{\"patent_type\":\"utility\"},{\"patent_type\":\"utility\"},{\"patent_type\":\"utility\"},{\"patent_type\":\"utility\"},{\"patent_type\":\"utility\"},{\"patent_type\":\"utility\"},{\"patent_type\":\"utility\"},{\"patent_type\":\"utility\"},{\"patent_type\":\"utility\"},{\"patent_type\":\"utility\"},{\"patent_type\":\"utility\"},{\"patent_type\":\"utility\"},{\"patent_type\":\"utility\"},{\"patent_type\":\"utility\"},{\"patent_type\":\"utility\"},{\"patent_type\":\"utility\"},{\"patent_type\":\"utility\"},{\"patent_type\":\"utility\"},{\"patent_type\":\"utility\"},{\"patent_type\":\"utility\"},{\"patent_type\":\"utility\"},{\"patent_type\":\"utility\"},{\"patent_type\":\"utility\"},{\"patent_type\":\"utility\"},{\"patent_type\":\"utility\"},{\"patent_type\":\"utility\"},{\"patent_type\":\"utility\"},{\"patent_type\":\"utility\"},{\"patent_type\":\"utility\"},{\"patent_type\":\"utility\"},{\"patent_type\":\"utility\"},{\"patent_type\":\"utility\"},{\"patent_type\":\"utility\"},{\"patent_type\":\"utility\"},{\"patent_type\":\"utility\"},{\"patent_type\":\"utility\"},{\"patent_type\":\"utility\"},{\"patent_type\":\"utility\"}],\"count\":50,\"total_patent_count\":100000}\n",
      "{\"patents\":[{\"patent_type\":\"utility\"},{\"patent_type\":\"utility\"},{\"patent_type\":\"utility\"},{\"patent_type\":\"utility\"},{\"patent_type\":\"utility\"},{\"patent_type\":\"utility\"},{\"patent_type\":\"utility\"},{\"patent_type\":\"utility\"},{\"patent_type\":\"utility\"},{\"patent_type\":\"utility\"},{\"patent_type\":\"utility\"},{\"patent_type\":\"utility\"},{\"patent_type\":\"utility\"},{\"patent_type\":\"utility\"},{\"patent_type\":\"utility\"},{\"patent_type\":\"utility\"},{\"patent_type\":\"utility\"},{\"patent_type\":\"utility\"},{\"patent_type\":\"utility\"},{\"patent_type\":\"utility\"},{\"patent_type\":\"utility\"},{\"patent_type\":\"utility\"},{\"patent_type\":\"utility\"},{\"patent_type\":\"utility\"},{\"patent_type\":\"utility\"},{\"patent_type\":\"utility\"},{\"patent_type\":\"utility\"},{\"patent_type\":\"utility\"},{\"patent_type\":\"utility\"},{\"patent_type\":\"utility\"},{\"patent_type\":\"utility\"},{\"patent_type\":\"utility\"},{\"patent_type\":\"utility\"},{\"patent_type\":\"utility\"},{\"patent_type\":\"utility\"},{\"patent_type\":\"utility\"},{\"patent_type\":\"utility\"},{\"patent_type\":\"utility\"},{\"patent_type\":\"utility\"},{\"patent_type\":\"utility\"},{\"patent_type\":\"utility\"},{\"patent_type\":\"utility\"},{\"patent_type\":\"utility\"},{\"patent_type\":\"utility\"},{\"patent_type\":\"utility\"},{\"patent_type\":\"utility\"},{\"patent_type\":\"utility\"},{\"patent_type\":\"utility\"},{\"patent_type\":\"utility\"},{\"patent_type\":\"utility\"}],\"count\":50,\"total_patent_count\":100000}\n",
      "{\"patents\":[{\"patent_type\":\"utility\"},{\"patent_type\":\"utility\"},{\"patent_type\":\"utility\"},{\"patent_type\":\"utility\"},{\"patent_type\":\"utility\"},{\"patent_type\":\"utility\"},{\"patent_type\":\"utility\"},{\"patent_type\":\"utility\"},{\"patent_type\":\"utility\"},{\"patent_type\":\"utility\"},{\"patent_type\":\"utility\"},{\"patent_type\":\"utility\"},{\"patent_type\":\"utility\"},{\"patent_type\":\"utility\"},{\"patent_type\":\"utility\"},{\"patent_type\":\"utility\"},{\"patent_type\":\"utility\"},{\"patent_type\":\"utility\"},{\"patent_type\":\"utility\"},{\"patent_type\":\"utility\"},{\"patent_type\":\"utility\"},{\"patent_type\":\"utility\"},{\"patent_type\":\"utility\"},{\"patent_type\":\"utility\"},{\"patent_type\":\"utility\"},{\"patent_type\":\"utility\"},{\"patent_type\":\"utility\"},{\"patent_type\":\"utility\"},{\"patent_type\":\"utility\"},{\"patent_type\":\"utility\"},{\"patent_type\":\"utility\"},{\"patent_type\":\"utility\"},{\"patent_type\":\"utility\"},{\"patent_type\":\"utility\"},{\"patent_type\":\"utility\"},{\"patent_type\":\"utility\"},{\"patent_type\":\"utility\"},{\"patent_type\":\"utility\"},{\"patent_type\":\"utility\"},{\"patent_type\":\"utility\"},{\"patent_type\":\"utility\"},{\"patent_type\":\"utility\"},{\"patent_type\":\"utility\"},{\"patent_type\":\"utility\"},{\"patent_type\":\"utility\"},{\"patent_type\":\"utility\"},{\"patent_type\":\"utility\"},{\"patent_type\":\"utility\"},{\"patent_type\":\"utility\"},{\"patent_type\":\"utility\"}],\"count\":50,\"total_patent_count\":100000}\n"
     ]
    },
    {
     "name": "stdout",
     "output_type": "stream",
     "text": [
      "{\"patents\":[{\"patent_type\":\"utility\"},{\"patent_type\":\"utility\"},{\"patent_type\":\"utility\"},{\"patent_type\":\"utility\"},{\"patent_type\":\"utility\"},{\"patent_type\":\"utility\"},{\"patent_type\":\"utility\"},{\"patent_type\":\"utility\"},{\"patent_type\":\"utility\"},{\"patent_type\":\"utility\"},{\"patent_type\":\"utility\"},{\"patent_type\":\"utility\"},{\"patent_type\":\"utility\"},{\"patent_type\":\"utility\"},{\"patent_type\":\"utility\"},{\"patent_type\":\"utility\"},{\"patent_type\":\"utility\"},{\"patent_type\":\"utility\"},{\"patent_type\":\"utility\"},{\"patent_type\":\"utility\"},{\"patent_type\":\"utility\"},{\"patent_type\":\"utility\"},{\"patent_type\":\"utility\"},{\"patent_type\":\"utility\"},{\"patent_type\":\"utility\"},{\"patent_type\":\"utility\"},{\"patent_type\":\"utility\"},{\"patent_type\":\"utility\"},{\"patent_type\":\"utility\"},{\"patent_type\":\"utility\"},{\"patent_type\":\"utility\"},{\"patent_type\":\"utility\"},{\"patent_type\":\"utility\"},{\"patent_type\":\"utility\"},{\"patent_type\":\"utility\"},{\"patent_type\":\"utility\"},{\"patent_type\":\"utility\"},{\"patent_type\":\"utility\"},{\"patent_type\":\"utility\"},{\"patent_type\":\"utility\"},{\"patent_type\":\"utility\"},{\"patent_type\":\"utility\"},{\"patent_type\":\"utility\"},{\"patent_type\":\"utility\"},{\"patent_type\":\"utility\"},{\"patent_type\":\"utility\"},{\"patent_type\":\"utility\"},{\"patent_type\":\"utility\"},{\"patent_type\":\"utility\"},{\"patent_type\":\"utility\"}],\"count\":50,\"total_patent_count\":100000}\n",
      "{\"patents\":[{\"patent_type\":\"utility\"},{\"patent_type\":\"utility\"},{\"patent_type\":\"utility\"},{\"patent_type\":\"utility\"},{\"patent_type\":\"utility\"},{\"patent_type\":\"utility\"},{\"patent_type\":\"utility\"},{\"patent_type\":\"utility\"},{\"patent_type\":\"utility\"},{\"patent_type\":\"utility\"},{\"patent_type\":\"utility\"},{\"patent_type\":\"utility\"},{\"patent_type\":\"utility\"},{\"patent_type\":\"utility\"},{\"patent_type\":\"utility\"},{\"patent_type\":\"utility\"},{\"patent_type\":\"utility\"},{\"patent_type\":\"utility\"},{\"patent_type\":\"utility\"},{\"patent_type\":\"utility\"},{\"patent_type\":\"utility\"},{\"patent_type\":\"utility\"},{\"patent_type\":\"utility\"},{\"patent_type\":\"utility\"},{\"patent_type\":\"utility\"},{\"patent_type\":\"utility\"},{\"patent_type\":\"utility\"},{\"patent_type\":\"utility\"},{\"patent_type\":\"utility\"},{\"patent_type\":\"utility\"},{\"patent_type\":\"utility\"},{\"patent_type\":\"utility\"},{\"patent_type\":\"utility\"},{\"patent_type\":\"utility\"},{\"patent_type\":\"utility\"},{\"patent_type\":\"utility\"},{\"patent_type\":\"utility\"},{\"patent_type\":\"utility\"},{\"patent_type\":\"utility\"},{\"patent_type\":\"utility\"},{\"patent_type\":\"utility\"},{\"patent_type\":\"utility\"},{\"patent_type\":\"utility\"},{\"patent_type\":\"utility\"},{\"patent_type\":\"utility\"},{\"patent_type\":\"utility\"},{\"patent_type\":\"utility\"},{\"patent_type\":\"utility\"},{\"patent_type\":\"utility\"},{\"patent_type\":\"utility\"}],\"count\":50,\"total_patent_count\":100000}\n",
      "{\"patents\":[{\"patent_type\":\"utility\"},{\"patent_type\":\"utility\"},{\"patent_type\":\"utility\"},{\"patent_type\":\"utility\"},{\"patent_type\":\"utility\"},{\"patent_type\":\"utility\"},{\"patent_type\":\"utility\"},{\"patent_type\":\"utility\"},{\"patent_type\":\"utility\"},{\"patent_type\":\"utility\"},{\"patent_type\":\"utility\"},{\"patent_type\":\"utility\"},{\"patent_type\":\"utility\"},{\"patent_type\":\"utility\"},{\"patent_type\":\"utility\"},{\"patent_type\":\"utility\"},{\"patent_type\":\"utility\"},{\"patent_type\":\"utility\"},{\"patent_type\":\"utility\"},{\"patent_type\":\"utility\"},{\"patent_type\":\"utility\"},{\"patent_type\":\"utility\"},{\"patent_type\":\"utility\"},{\"patent_type\":\"utility\"},{\"patent_type\":\"utility\"},{\"patent_type\":\"utility\"},{\"patent_type\":\"utility\"},{\"patent_type\":\"utility\"},{\"patent_type\":\"utility\"},{\"patent_type\":\"utility\"},{\"patent_type\":\"utility\"},{\"patent_type\":\"utility\"},{\"patent_type\":\"utility\"},{\"patent_type\":\"utility\"},{\"patent_type\":\"utility\"},{\"patent_type\":\"utility\"},{\"patent_type\":\"utility\"},{\"patent_type\":\"utility\"},{\"patent_type\":\"utility\"},{\"patent_type\":\"utility\"},{\"patent_type\":\"utility\"},{\"patent_type\":\"utility\"},{\"patent_type\":\"utility\"},{\"patent_type\":\"utility\"},{\"patent_type\":\"utility\"},{\"patent_type\":\"utility\"},{\"patent_type\":\"utility\"},{\"patent_type\":\"utility\"},{\"patent_type\":\"utility\"},{\"patent_type\":\"utility\"}],\"count\":50,\"total_patent_count\":100000}\n",
      "{\"patents\":[{\"patent_type\":\"utility\"},{\"patent_type\":\"utility\"},{\"patent_type\":\"utility\"},{\"patent_type\":\"utility\"},{\"patent_type\":\"utility\"},{\"patent_type\":\"utility\"},{\"patent_type\":\"utility\"},{\"patent_type\":\"utility\"},{\"patent_type\":\"utility\"},{\"patent_type\":\"utility\"},{\"patent_type\":\"utility\"},{\"patent_type\":\"utility\"},{\"patent_type\":\"utility\"},{\"patent_type\":\"utility\"},{\"patent_type\":\"utility\"},{\"patent_type\":\"utility\"},{\"patent_type\":\"utility\"},{\"patent_type\":\"utility\"},{\"patent_type\":\"utility\"},{\"patent_type\":\"utility\"},{\"patent_type\":\"utility\"},{\"patent_type\":\"utility\"},{\"patent_type\":\"utility\"},{\"patent_type\":\"utility\"},{\"patent_type\":\"utility\"},{\"patent_type\":\"utility\"},{\"patent_type\":\"utility\"},{\"patent_type\":\"utility\"},{\"patent_type\":\"utility\"},{\"patent_type\":\"utility\"},{\"patent_type\":\"utility\"},{\"patent_type\":\"utility\"},{\"patent_type\":\"utility\"},{\"patent_type\":\"utility\"},{\"patent_type\":\"utility\"},{\"patent_type\":\"utility\"},{\"patent_type\":\"utility\"},{\"patent_type\":\"utility\"},{\"patent_type\":\"utility\"},{\"patent_type\":\"utility\"},{\"patent_type\":\"utility\"},{\"patent_type\":\"utility\"},{\"patent_type\":\"utility\"},{\"patent_type\":\"utility\"},{\"patent_type\":\"utility\"},{\"patent_type\":\"utility\"},{\"patent_type\":\"utility\"},{\"patent_type\":\"utility\"},{\"patent_type\":\"utility\"},{\"patent_type\":\"utility\"}],\"count\":50,\"total_patent_count\":100000}\n",
      "{\"patents\":[{\"patent_type\":\"utility\"},{\"patent_type\":\"utility\"},{\"patent_type\":\"utility\"},{\"patent_type\":\"utility\"},{\"patent_type\":\"utility\"},{\"patent_type\":\"utility\"},{\"patent_type\":\"utility\"},{\"patent_type\":\"utility\"},{\"patent_type\":\"utility\"},{\"patent_type\":\"utility\"},{\"patent_type\":\"utility\"},{\"patent_type\":\"utility\"},{\"patent_type\":\"utility\"},{\"patent_type\":\"utility\"},{\"patent_type\":\"utility\"},{\"patent_type\":\"utility\"},{\"patent_type\":\"utility\"},{\"patent_type\":\"utility\"},{\"patent_type\":\"utility\"},{\"patent_type\":\"utility\"},{\"patent_type\":\"utility\"},{\"patent_type\":\"utility\"},{\"patent_type\":\"utility\"},{\"patent_type\":\"utility\"},{\"patent_type\":\"utility\"},{\"patent_type\":\"utility\"},{\"patent_type\":\"utility\"},{\"patent_type\":\"utility\"},{\"patent_type\":\"utility\"},{\"patent_type\":\"utility\"},{\"patent_type\":\"utility\"},{\"patent_type\":\"utility\"},{\"patent_type\":\"utility\"},{\"patent_type\":\"utility\"},{\"patent_type\":\"utility\"},{\"patent_type\":\"utility\"},{\"patent_type\":\"utility\"},{\"patent_type\":\"utility\"},{\"patent_type\":\"utility\"},{\"patent_type\":\"utility\"},{\"patent_type\":\"utility\"},{\"patent_type\":\"utility\"},{\"patent_type\":\"utility\"},{\"patent_type\":\"utility\"},{\"patent_type\":\"utility\"},{\"patent_type\":\"utility\"},{\"patent_type\":\"utility\"},{\"patent_type\":\"utility\"},{\"patent_type\":\"utility\"},{\"patent_type\":\"utility\"}],\"count\":50,\"total_patent_count\":100000}\n",
      "{\"patents\":[{\"patent_type\":\"design\"},{\"patent_type\":\"design\"},{\"patent_type\":\"design\"},{\"patent_type\":\"design\"},{\"patent_type\":\"design\"},{\"patent_type\":\"design\"},{\"patent_type\":\"design\"},{\"patent_type\":\"design\"},{\"patent_type\":\"design\"},{\"patent_type\":\"design\"},{\"patent_type\":\"design\"},{\"patent_type\":\"design\"},{\"patent_type\":\"design\"},{\"patent_type\":\"design\"},{\"patent_type\":\"design\"},{\"patent_type\":\"design\"},{\"patent_type\":\"design\"},{\"patent_type\":\"design\"},{\"patent_type\":\"design\"},{\"patent_type\":\"design\"},{\"patent_type\":\"design\"},{\"patent_type\":\"design\"},{\"patent_type\":\"design\"},{\"patent_type\":\"design\"},{\"patent_type\":\"design\"},{\"patent_type\":\"design\"},{\"patent_type\":\"design\"},{\"patent_type\":\"design\"},{\"patent_type\":\"design\"},{\"patent_type\":\"design\"},{\"patent_type\":\"design\"},{\"patent_type\":\"design\"},{\"patent_type\":\"design\"},{\"patent_type\":\"design\"},{\"patent_type\":\"design\"},{\"patent_type\":\"design\"},{\"patent_type\":\"design\"},{\"patent_type\":\"design\"},{\"patent_type\":\"design\"},{\"patent_type\":\"design\"},{\"patent_type\":\"design\"},{\"patent_type\":\"design\"},{\"patent_type\":\"design\"},{\"patent_type\":\"design\"},{\"patent_type\":\"design\"},{\"patent_type\":\"design\"},{\"patent_type\":\"design\"},{\"patent_type\":\"design\"},{\"patent_type\":\"design\"},{\"patent_type\":\"design\"}],\"count\":50,\"total_patent_count\":100000}\n",
      "{\"patents\":[{\"patent_type\":\"design\"},{\"patent_type\":\"design\"},{\"patent_type\":\"design\"},{\"patent_type\":\"design\"},{\"patent_type\":\"design\"},{\"patent_type\":\"design\"},{\"patent_type\":\"design\"},{\"patent_type\":\"design\"},{\"patent_type\":\"design\"},{\"patent_type\":\"design\"},{\"patent_type\":\"design\"},{\"patent_type\":\"design\"},{\"patent_type\":\"design\"},{\"patent_type\":\"design\"},{\"patent_type\":\"design\"},{\"patent_type\":\"design\"},{\"patent_type\":\"design\"},{\"patent_type\":\"design\"},{\"patent_type\":\"design\"},{\"patent_type\":\"design\"},{\"patent_type\":\"design\"},{\"patent_type\":\"design\"},{\"patent_type\":\"design\"},{\"patent_type\":\"design\"},{\"patent_type\":\"design\"},{\"patent_type\":\"design\"},{\"patent_type\":\"design\"},{\"patent_type\":\"design\"},{\"patent_type\":\"design\"},{\"patent_type\":\"design\"},{\"patent_type\":\"design\"},{\"patent_type\":\"design\"},{\"patent_type\":\"design\"},{\"patent_type\":\"design\"},{\"patent_type\":\"design\"},{\"patent_type\":\"design\"},{\"patent_type\":\"design\"},{\"patent_type\":\"design\"},{\"patent_type\":\"design\"},{\"patent_type\":\"design\"},{\"patent_type\":\"design\"},{\"patent_type\":\"design\"},{\"patent_type\":\"design\"},{\"patent_type\":\"design\"},{\"patent_type\":\"design\"},{\"patent_type\":\"design\"},{\"patent_type\":\"design\"},{\"patent_type\":\"design\"},{\"patent_type\":\"design\"},{\"patent_type\":\"design\"}],\"count\":50,\"total_patent_count\":100000}\n"
     ]
    },
    {
     "name": "stdout",
     "output_type": "stream",
     "text": [
      "{\"patents\":[{\"patent_type\":\"design\"},{\"patent_type\":\"design\"},{\"patent_type\":\"design\"},{\"patent_type\":\"design\"},{\"patent_type\":\"design\"},{\"patent_type\":\"design\"},{\"patent_type\":\"design\"},{\"patent_type\":\"design\"},{\"patent_type\":\"design\"},{\"patent_type\":\"design\"},{\"patent_type\":\"design\"},{\"patent_type\":\"design\"},{\"patent_type\":\"design\"},{\"patent_type\":\"design\"},{\"patent_type\":\"design\"},{\"patent_type\":\"design\"},{\"patent_type\":\"design\"},{\"patent_type\":\"design\"},{\"patent_type\":\"design\"},{\"patent_type\":\"design\"},{\"patent_type\":\"design\"},{\"patent_type\":\"design\"},{\"patent_type\":\"design\"},{\"patent_type\":\"design\"},{\"patent_type\":\"design\"},{\"patent_type\":\"design\"},{\"patent_type\":\"design\"},{\"patent_type\":\"design\"},{\"patent_type\":\"design\"},{\"patent_type\":\"design\"},{\"patent_type\":\"design\"},{\"patent_type\":\"design\"},{\"patent_type\":\"design\"},{\"patent_type\":\"design\"},{\"patent_type\":\"design\"},{\"patent_type\":\"design\"},{\"patent_type\":\"design\"},{\"patent_type\":\"design\"},{\"patent_type\":\"design\"},{\"patent_type\":\"design\"},{\"patent_type\":\"design\"},{\"patent_type\":\"design\"},{\"patent_type\":\"design\"},{\"patent_type\":\"design\"},{\"patent_type\":\"design\"},{\"patent_type\":\"design\"},{\"patent_type\":\"design\"},{\"patent_type\":\"design\"},{\"patent_type\":\"design\"},{\"patent_type\":\"design\"}],\"count\":50,\"total_patent_count\":100000}\n",
      "{\"patents\":[{\"patent_type\":\"design\"},{\"patent_type\":\"design\"},{\"patent_type\":\"design\"},{\"patent_type\":\"design\"},{\"patent_type\":\"design\"},{\"patent_type\":\"design\"},{\"patent_type\":\"design\"},{\"patent_type\":\"design\"},{\"patent_type\":\"design\"},{\"patent_type\":\"design\"},{\"patent_type\":\"design\"},{\"patent_type\":\"design\"},{\"patent_type\":\"design\"},{\"patent_type\":\"design\"},{\"patent_type\":\"design\"},{\"patent_type\":\"design\"},{\"patent_type\":\"design\"},{\"patent_type\":\"design\"},{\"patent_type\":\"design\"},{\"patent_type\":\"design\"},{\"patent_type\":\"design\"},{\"patent_type\":\"design\"},{\"patent_type\":\"design\"},{\"patent_type\":\"design\"},{\"patent_type\":\"design\"},{\"patent_type\":\"design\"},{\"patent_type\":\"design\"},{\"patent_type\":\"design\"},{\"patent_type\":\"design\"},{\"patent_type\":\"design\"},{\"patent_type\":\"design\"},{\"patent_type\":\"design\"},{\"patent_type\":\"design\"},{\"patent_type\":\"design\"},{\"patent_type\":\"design\"},{\"patent_type\":\"design\"},{\"patent_type\":\"design\"},{\"patent_type\":\"design\"},{\"patent_type\":\"design\"},{\"patent_type\":\"design\"},{\"patent_type\":\"design\"},{\"patent_type\":\"design\"},{\"patent_type\":\"design\"},{\"patent_type\":\"design\"},{\"patent_type\":\"design\"},{\"patent_type\":\"design\"},{\"patent_type\":\"design\"},{\"patent_type\":\"design\"},{\"patent_type\":\"design\"},{\"patent_type\":\"design\"}],\"count\":50,\"total_patent_count\":100000}\n",
      "{\"patents\":[{\"patent_type\":\"design\"},{\"patent_type\":\"design\"},{\"patent_type\":\"design\"},{\"patent_type\":\"design\"},{\"patent_type\":\"design\"},{\"patent_type\":\"design\"},{\"patent_type\":\"design\"},{\"patent_type\":\"design\"},{\"patent_type\":\"design\"},{\"patent_type\":\"design\"},{\"patent_type\":\"design\"},{\"patent_type\":\"design\"},{\"patent_type\":\"design\"},{\"patent_type\":\"design\"},{\"patent_type\":\"design\"},{\"patent_type\":\"design\"},{\"patent_type\":\"design\"},{\"patent_type\":\"design\"},{\"patent_type\":\"design\"},{\"patent_type\":\"design\"},{\"patent_type\":\"design\"},{\"patent_type\":\"design\"},{\"patent_type\":\"design\"},{\"patent_type\":\"design\"},{\"patent_type\":\"design\"},{\"patent_type\":\"design\"},{\"patent_type\":\"design\"},{\"patent_type\":\"design\"},{\"patent_type\":\"design\"},{\"patent_type\":\"design\"},{\"patent_type\":\"design\"},{\"patent_type\":\"design\"},{\"patent_type\":\"design\"},{\"patent_type\":\"design\"},{\"patent_type\":\"design\"},{\"patent_type\":\"design\"},{\"patent_type\":\"design\"},{\"patent_type\":\"design\"},{\"patent_type\":\"design\"},{\"patent_type\":\"design\"},{\"patent_type\":\"design\"},{\"patent_type\":\"design\"},{\"patent_type\":\"design\"},{\"patent_type\":\"design\"},{\"patent_type\":\"design\"},{\"patent_type\":\"design\"},{\"patent_type\":\"design\"},{\"patent_type\":\"design\"},{\"patent_type\":\"design\"},{\"patent_type\":\"design\"}],\"count\":50,\"total_patent_count\":100000}\n",
      "{\"patents\":[{\"patent_type\":\"design\"},{\"patent_type\":\"design\"},{\"patent_type\":\"design\"},{\"patent_type\":\"design\"},{\"patent_type\":\"design\"},{\"patent_type\":\"design\"},{\"patent_type\":\"design\"},{\"patent_type\":\"design\"},{\"patent_type\":\"design\"},{\"patent_type\":\"design\"},{\"patent_type\":\"design\"},{\"patent_type\":\"design\"},{\"patent_type\":\"design\"},{\"patent_type\":\"design\"},{\"patent_type\":\"design\"},{\"patent_type\":\"design\"},{\"patent_type\":\"design\"},{\"patent_type\":\"design\"},{\"patent_type\":\"design\"},{\"patent_type\":\"design\"},{\"patent_type\":\"design\"},{\"patent_type\":\"design\"},{\"patent_type\":\"design\"},{\"patent_type\":\"design\"},{\"patent_type\":\"design\"},{\"patent_type\":\"design\"},{\"patent_type\":\"design\"},{\"patent_type\":\"design\"},{\"patent_type\":\"design\"},{\"patent_type\":\"design\"},{\"patent_type\":\"design\"},{\"patent_type\":\"design\"},{\"patent_type\":\"design\"},{\"patent_type\":\"design\"},{\"patent_type\":\"design\"},{\"patent_type\":\"design\"},{\"patent_type\":\"design\"},{\"patent_type\":\"design\"},{\"patent_type\":\"design\"},{\"patent_type\":\"design\"},{\"patent_type\":\"design\"},{\"patent_type\":\"design\"},{\"patent_type\":\"design\"},{\"patent_type\":\"design\"},{\"patent_type\":\"design\"},{\"patent_type\":\"design\"},{\"patent_type\":\"design\"},{\"patent_type\":\"design\"},{\"patent_type\":\"design\"},{\"patent_type\":\"design\"}],\"count\":50,\"total_patent_count\":100000}\n",
      "{\"patents\":[{\"patent_type\":\"design\"},{\"patent_type\":\"design\"},{\"patent_type\":\"design\"},{\"patent_type\":\"design\"},{\"patent_type\":\"design\"},{\"patent_type\":\"design\"},{\"patent_type\":\"design\"},{\"patent_type\":\"design\"},{\"patent_type\":\"design\"},{\"patent_type\":\"design\"},{\"patent_type\":\"design\"},{\"patent_type\":\"design\"},{\"patent_type\":\"design\"},{\"patent_type\":\"design\"},{\"patent_type\":\"design\"},{\"patent_type\":\"design\"},{\"patent_type\":\"design\"},{\"patent_type\":\"design\"},{\"patent_type\":\"design\"},{\"patent_type\":\"design\"},{\"patent_type\":\"design\"},{\"patent_type\":\"design\"},{\"patent_type\":\"design\"},{\"patent_type\":\"design\"},{\"patent_type\":\"design\"},{\"patent_type\":\"design\"},{\"patent_type\":\"design\"},{\"patent_type\":\"design\"},{\"patent_type\":\"design\"},{\"patent_type\":\"design\"},{\"patent_type\":\"design\"},{\"patent_type\":\"design\"},{\"patent_type\":\"design\"},{\"patent_type\":\"design\"},{\"patent_type\":\"design\"},{\"patent_type\":\"design\"},{\"patent_type\":\"design\"},{\"patent_type\":\"design\"},{\"patent_type\":\"design\"},{\"patent_type\":\"design\"},{\"patent_type\":\"design\"},{\"patent_type\":\"design\"},{\"patent_type\":\"design\"},{\"patent_type\":\"design\"},{\"patent_type\":\"design\"},{\"patent_type\":\"design\"},{\"patent_type\":\"design\"},{\"patent_type\":\"design\"},{\"patent_type\":\"design\"},{\"patent_type\":\"design\"}],\"count\":50,\"total_patent_count\":100000}\n",
      "{\"patents\":[{\"patent_type\":\"design\"},{\"patent_type\":\"design\"},{\"patent_type\":\"design\"},{\"patent_type\":\"design\"},{\"patent_type\":\"design\"},{\"patent_type\":\"design\"},{\"patent_type\":\"design\"},{\"patent_type\":\"design\"},{\"patent_type\":\"design\"},{\"patent_type\":\"design\"},{\"patent_type\":\"design\"},{\"patent_type\":\"design\"},{\"patent_type\":\"design\"},{\"patent_type\":\"design\"},{\"patent_type\":\"design\"},{\"patent_type\":\"design\"},{\"patent_type\":\"design\"},{\"patent_type\":\"design\"},{\"patent_type\":\"design\"},{\"patent_type\":\"design\"},{\"patent_type\":\"design\"},{\"patent_type\":\"design\"},{\"patent_type\":\"design\"},{\"patent_type\":\"design\"},{\"patent_type\":\"design\"},{\"patent_type\":\"design\"},{\"patent_type\":\"design\"},{\"patent_type\":\"design\"},{\"patent_type\":\"design\"},{\"patent_type\":\"design\"},{\"patent_type\":\"design\"},{\"patent_type\":\"design\"},{\"patent_type\":\"design\"},{\"patent_type\":\"design\"},{\"patent_type\":\"design\"},{\"patent_type\":\"design\"},{\"patent_type\":\"design\"},{\"patent_type\":\"design\"},{\"patent_type\":\"design\"},{\"patent_type\":\"design\"},{\"patent_type\":\"design\"},{\"patent_type\":\"design\"},{\"patent_type\":\"design\"},{\"patent_type\":\"design\"},{\"patent_type\":\"design\"},{\"patent_type\":\"design\"},{\"patent_type\":\"design\"},{\"patent_type\":\"design\"},{\"patent_type\":\"design\"},{\"patent_type\":\"design\"}],\"count\":50,\"total_patent_count\":100000}\n",
      "{\"patents\":[{\"patent_type\":\"design\"},{\"patent_type\":\"design\"},{\"patent_type\":\"design\"},{\"patent_type\":\"design\"},{\"patent_type\":\"design\"},{\"patent_type\":\"design\"},{\"patent_type\":\"design\"},{\"patent_type\":\"design\"},{\"patent_type\":\"design\"},{\"patent_type\":\"design\"},{\"patent_type\":\"design\"},{\"patent_type\":\"design\"},{\"patent_type\":\"design\"},{\"patent_type\":\"design\"},{\"patent_type\":\"design\"},{\"patent_type\":\"design\"},{\"patent_type\":\"design\"},{\"patent_type\":\"design\"},{\"patent_type\":\"design\"},{\"patent_type\":\"design\"},{\"patent_type\":\"design\"},{\"patent_type\":\"design\"},{\"patent_type\":\"design\"},{\"patent_type\":\"design\"},{\"patent_type\":\"design\"},{\"patent_type\":\"design\"},{\"patent_type\":\"design\"},{\"patent_type\":\"design\"},{\"patent_type\":\"design\"},{\"patent_type\":\"design\"},{\"patent_type\":\"design\"},{\"patent_type\":\"design\"},{\"patent_type\":\"design\"},{\"patent_type\":\"design\"},{\"patent_type\":\"design\"},{\"patent_type\":\"design\"},{\"patent_type\":\"design\"},{\"patent_type\":\"design\"},{\"patent_type\":\"design\"},{\"patent_type\":\"design\"},{\"patent_type\":\"design\"},{\"patent_type\":\"design\"},{\"patent_type\":\"design\"},{\"patent_type\":\"design\"},{\"patent_type\":\"design\"},{\"patent_type\":\"design\"},{\"patent_type\":\"design\"},{\"patent_type\":\"design\"},{\"patent_type\":\"design\"},{\"patent_type\":\"design\"}],\"count\":50,\"total_patent_count\":100000}\n"
     ]
    },
    {
     "name": "stdout",
     "output_type": "stream",
     "text": [
      "{\"patents\":[{\"patent_type\":\"design\"},{\"patent_type\":\"design\"},{\"patent_type\":\"design\"},{\"patent_type\":\"design\"},{\"patent_type\":\"design\"},{\"patent_type\":\"design\"},{\"patent_type\":\"design\"},{\"patent_type\":\"design\"},{\"patent_type\":\"design\"},{\"patent_type\":\"design\"},{\"patent_type\":\"design\"},{\"patent_type\":\"design\"},{\"patent_type\":\"design\"},{\"patent_type\":\"design\"},{\"patent_type\":\"design\"},{\"patent_type\":\"design\"},{\"patent_type\":\"design\"},{\"patent_type\":\"design\"},{\"patent_type\":\"design\"},{\"patent_type\":\"design\"},{\"patent_type\":\"design\"},{\"patent_type\":\"design\"},{\"patent_type\":\"design\"},{\"patent_type\":\"design\"},{\"patent_type\":\"design\"},{\"patent_type\":\"design\"},{\"patent_type\":\"design\"},{\"patent_type\":\"design\"},{\"patent_type\":\"design\"},{\"patent_type\":\"design\"},{\"patent_type\":\"design\"},{\"patent_type\":\"design\"},{\"patent_type\":\"design\"},{\"patent_type\":\"design\"},{\"patent_type\":\"design\"},{\"patent_type\":\"design\"},{\"patent_type\":\"design\"},{\"patent_type\":\"design\"},{\"patent_type\":\"design\"},{\"patent_type\":\"design\"},{\"patent_type\":\"design\"},{\"patent_type\":\"design\"},{\"patent_type\":\"design\"},{\"patent_type\":\"design\"},{\"patent_type\":\"design\"},{\"patent_type\":\"design\"},{\"patent_type\":\"design\"},{\"patent_type\":\"design\"},{\"patent_type\":\"design\"},{\"patent_type\":\"design\"}],\"count\":50,\"total_patent_count\":100000}\n",
      "{\"patents\":[{\"patent_type\":\"design\"},{\"patent_type\":\"design\"},{\"patent_type\":\"design\"},{\"patent_type\":\"design\"},{\"patent_type\":\"design\"},{\"patent_type\":\"design\"},{\"patent_type\":\"design\"},{\"patent_type\":\"design\"},{\"patent_type\":\"design\"},{\"patent_type\":\"design\"},{\"patent_type\":\"design\"},{\"patent_type\":\"design\"},{\"patent_type\":\"design\"},{\"patent_type\":\"design\"},{\"patent_type\":\"design\"},{\"patent_type\":\"design\"},{\"patent_type\":\"design\"},{\"patent_type\":\"design\"},{\"patent_type\":\"design\"},{\"patent_type\":\"design\"},{\"patent_type\":\"design\"},{\"patent_type\":\"design\"},{\"patent_type\":\"design\"},{\"patent_type\":\"design\"},{\"patent_type\":\"design\"},{\"patent_type\":\"design\"},{\"patent_type\":\"design\"},{\"patent_type\":\"design\"},{\"patent_type\":\"design\"},{\"patent_type\":\"design\"},{\"patent_type\":\"design\"},{\"patent_type\":\"design\"},{\"patent_type\":\"design\"},{\"patent_type\":\"design\"},{\"patent_type\":\"design\"},{\"patent_type\":\"design\"},{\"patent_type\":\"design\"},{\"patent_type\":\"design\"},{\"patent_type\":\"design\"},{\"patent_type\":\"design\"},{\"patent_type\":\"design\"},{\"patent_type\":\"design\"},{\"patent_type\":\"design\"},{\"patent_type\":\"design\"},{\"patent_type\":\"design\"},{\"patent_type\":\"design\"},{\"patent_type\":\"design\"},{\"patent_type\":\"design\"},{\"patent_type\":\"design\"},{\"patent_type\":\"design\"}],\"count\":50,\"total_patent_count\":100000}\n",
      "{\"patents\":[{\"patent_type\":\"design\"},{\"patent_type\":\"design\"},{\"patent_type\":\"design\"},{\"patent_type\":\"design\"},{\"patent_type\":\"design\"},{\"patent_type\":\"design\"},{\"patent_type\":\"design\"},{\"patent_type\":\"design\"},{\"patent_type\":\"design\"},{\"patent_type\":\"design\"},{\"patent_type\":\"design\"},{\"patent_type\":\"design\"},{\"patent_type\":\"design\"},{\"patent_type\":\"design\"},{\"patent_type\":\"design\"},{\"patent_type\":\"design\"},{\"patent_type\":\"design\"},{\"patent_type\":\"design\"},{\"patent_type\":\"design\"},{\"patent_type\":\"design\"},{\"patent_type\":\"design\"},{\"patent_type\":\"design\"},{\"patent_type\":\"design\"},{\"patent_type\":\"design\"},{\"patent_type\":\"design\"},{\"patent_type\":\"design\"},{\"patent_type\":\"design\"},{\"patent_type\":\"design\"},{\"patent_type\":\"design\"},{\"patent_type\":\"design\"},{\"patent_type\":\"design\"},{\"patent_type\":\"design\"},{\"patent_type\":\"design\"},{\"patent_type\":\"design\"},{\"patent_type\":\"design\"},{\"patent_type\":\"design\"},{\"patent_type\":\"design\"},{\"patent_type\":\"design\"},{\"patent_type\":\"design\"},{\"patent_type\":\"design\"},{\"patent_type\":\"design\"},{\"patent_type\":\"design\"},{\"patent_type\":\"design\"},{\"patent_type\":\"design\"},{\"patent_type\":\"design\"},{\"patent_type\":\"design\"},{\"patent_type\":\"design\"},{\"patent_type\":\"design\"},{\"patent_type\":\"design\"},{\"patent_type\":\"design\"}],\"count\":50,\"total_patent_count\":100000}\n",
      "{\"patents\":[{\"patent_type\":\"design\"},{\"patent_type\":\"design\"},{\"patent_type\":\"design\"},{\"patent_type\":\"design\"},{\"patent_type\":\"design\"},{\"patent_type\":\"design\"},{\"patent_type\":\"design\"},{\"patent_type\":\"design\"},{\"patent_type\":\"design\"},{\"patent_type\":\"design\"},{\"patent_type\":\"design\"},{\"patent_type\":\"design\"},{\"patent_type\":\"design\"},{\"patent_type\":\"design\"},{\"patent_type\":\"design\"},{\"patent_type\":\"design\"},{\"patent_type\":\"design\"},{\"patent_type\":\"design\"},{\"patent_type\":\"design\"},{\"patent_type\":\"design\"},{\"patent_type\":\"design\"},{\"patent_type\":\"design\"},{\"patent_type\":\"design\"},{\"patent_type\":\"design\"},{\"patent_type\":\"design\"},{\"patent_type\":\"design\"},{\"patent_type\":\"design\"},{\"patent_type\":\"design\"},{\"patent_type\":\"design\"},{\"patent_type\":\"design\"},{\"patent_type\":\"design\"},{\"patent_type\":\"design\"},{\"patent_type\":\"design\"},{\"patent_type\":\"design\"},{\"patent_type\":\"design\"},{\"patent_type\":\"design\"},{\"patent_type\":\"design\"},{\"patent_type\":\"design\"},{\"patent_type\":\"design\"},{\"patent_type\":\"design\"},{\"patent_type\":\"design\"},{\"patent_type\":\"design\"},{\"patent_type\":\"design\"},{\"patent_type\":\"design\"},{\"patent_type\":\"design\"},{\"patent_type\":\"design\"},{\"patent_type\":\"design\"},{\"patent_type\":\"design\"},{\"patent_type\":\"design\"},{\"patent_type\":\"design\"}],\"count\":50,\"total_patent_count\":100000}\n",
      "{\"patents\":[{\"patent_type\":\"design\"},{\"patent_type\":\"design\"},{\"patent_type\":\"design\"},{\"patent_type\":\"design\"},{\"patent_type\":\"design\"},{\"patent_type\":\"design\"},{\"patent_type\":\"design\"},{\"patent_type\":\"design\"},{\"patent_type\":\"design\"},{\"patent_type\":\"design\"},{\"patent_type\":\"design\"},{\"patent_type\":\"design\"},{\"patent_type\":\"design\"},{\"patent_type\":\"design\"},{\"patent_type\":\"design\"},{\"patent_type\":\"design\"},{\"patent_type\":\"design\"},{\"patent_type\":\"design\"},{\"patent_type\":\"design\"},{\"patent_type\":\"design\"},{\"patent_type\":\"design\"},{\"patent_type\":\"design\"},{\"patent_type\":\"design\"},{\"patent_type\":\"design\"},{\"patent_type\":\"design\"},{\"patent_type\":\"design\"},{\"patent_type\":\"design\"},{\"patent_type\":\"design\"},{\"patent_type\":\"design\"},{\"patent_type\":\"design\"},{\"patent_type\":\"design\"},{\"patent_type\":\"design\"},{\"patent_type\":\"design\"},{\"patent_type\":\"design\"},{\"patent_type\":\"design\"},{\"patent_type\":\"design\"},{\"patent_type\":\"design\"},{\"patent_type\":\"design\"},{\"patent_type\":\"design\"},{\"patent_type\":\"design\"},{\"patent_type\":\"design\"},{\"patent_type\":\"design\"},{\"patent_type\":\"design\"},{\"patent_type\":\"design\"},{\"patent_type\":\"design\"},{\"patent_type\":\"design\"},{\"patent_type\":\"design\"},{\"patent_type\":\"design\"},{\"patent_type\":\"design\"},{\"patent_type\":\"design\"}],\"count\":50,\"total_patent_count\":100000}\n",
      "{\"patents\":[{\"patent_type\":\"design\"},{\"patent_type\":\"design\"},{\"patent_type\":\"design\"},{\"patent_type\":\"design\"},{\"patent_type\":\"design\"},{\"patent_type\":\"design\"},{\"patent_type\":\"design\"},{\"patent_type\":\"design\"},{\"patent_type\":\"design\"},{\"patent_type\":\"design\"},{\"patent_type\":\"design\"},{\"patent_type\":\"design\"},{\"patent_type\":\"design\"},{\"patent_type\":\"design\"},{\"patent_type\":\"design\"},{\"patent_type\":\"design\"},{\"patent_type\":\"design\"},{\"patent_type\":\"design\"},{\"patent_type\":\"design\"},{\"patent_type\":\"design\"},{\"patent_type\":\"design\"},{\"patent_type\":\"design\"},{\"patent_type\":\"design\"},{\"patent_type\":\"design\"},{\"patent_type\":\"design\"},{\"patent_type\":\"design\"},{\"patent_type\":\"design\"},{\"patent_type\":\"design\"},{\"patent_type\":\"design\"},{\"patent_type\":\"design\"},{\"patent_type\":\"design\"},{\"patent_type\":\"design\"},{\"patent_type\":\"design\"},{\"patent_type\":\"design\"},{\"patent_type\":\"design\"},{\"patent_type\":\"design\"},{\"patent_type\":\"design\"},{\"patent_type\":\"design\"},{\"patent_type\":\"design\"},{\"patent_type\":\"design\"},{\"patent_type\":\"design\"},{\"patent_type\":\"design\"},{\"patent_type\":\"design\"},{\"patent_type\":\"design\"},{\"patent_type\":\"design\"},{\"patent_type\":\"design\"},{\"patent_type\":\"design\"},{\"patent_type\":\"design\"},{\"patent_type\":\"design\"},{\"patent_type\":\"design\"}],\"count\":50,\"total_patent_count\":100000}\n",
      "{\"patents\":[{\"patent_type\":\"design\"},{\"patent_type\":\"design\"},{\"patent_type\":\"design\"},{\"patent_type\":\"design\"},{\"patent_type\":\"design\"},{\"patent_type\":\"design\"},{\"patent_type\":\"design\"},{\"patent_type\":\"design\"},{\"patent_type\":\"design\"},{\"patent_type\":\"design\"},{\"patent_type\":\"design\"},{\"patent_type\":\"design\"},{\"patent_type\":\"design\"},{\"patent_type\":\"design\"},{\"patent_type\":\"design\"},{\"patent_type\":\"design\"},{\"patent_type\":\"design\"},{\"patent_type\":\"design\"},{\"patent_type\":\"design\"},{\"patent_type\":\"design\"},{\"patent_type\":\"design\"},{\"patent_type\":\"design\"},{\"patent_type\":\"design\"},{\"patent_type\":\"design\"},{\"patent_type\":\"design\"},{\"patent_type\":\"design\"},{\"patent_type\":\"design\"},{\"patent_type\":\"design\"},{\"patent_type\":\"design\"},{\"patent_type\":\"design\"},{\"patent_type\":\"design\"},{\"patent_type\":\"design\"},{\"patent_type\":\"design\"},{\"patent_type\":\"design\"},{\"patent_type\":\"design\"},{\"patent_type\":\"design\"},{\"patent_type\":\"design\"},{\"patent_type\":\"design\"},{\"patent_type\":\"design\"},{\"patent_type\":\"design\"},{\"patent_type\":\"design\"},{\"patent_type\":\"design\"},{\"patent_type\":\"design\"},{\"patent_type\":\"design\"},{\"patent_type\":\"design\"},{\"patent_type\":\"design\"},{\"patent_type\":\"design\"},{\"patent_type\":\"design\"},{\"patent_type\":\"design\"},{\"patent_type\":\"design\"}],\"count\":50,\"total_patent_count\":100000}\n"
     ]
    },
    {
     "name": "stdout",
     "output_type": "stream",
     "text": [
      "{\"patents\":[{\"patent_type\":\"design\"},{\"patent_type\":\"design\"},{\"patent_type\":\"design\"},{\"patent_type\":\"design\"},{\"patent_type\":\"design\"},{\"patent_type\":\"design\"},{\"patent_type\":\"design\"},{\"patent_type\":\"design\"},{\"patent_type\":\"design\"},{\"patent_type\":\"design\"},{\"patent_type\":\"design\"},{\"patent_type\":\"design\"},{\"patent_type\":\"design\"},{\"patent_type\":\"design\"},{\"patent_type\":\"design\"},{\"patent_type\":\"design\"},{\"patent_type\":\"design\"},{\"patent_type\":\"design\"},{\"patent_type\":\"design\"},{\"patent_type\":\"design\"},{\"patent_type\":\"design\"},{\"patent_type\":\"design\"},{\"patent_type\":\"design\"},{\"patent_type\":\"design\"},{\"patent_type\":\"design\"},{\"patent_type\":\"design\"},{\"patent_type\":\"design\"},{\"patent_type\":\"design\"},{\"patent_type\":\"design\"},{\"patent_type\":\"design\"},{\"patent_type\":\"design\"},{\"patent_type\":\"design\"},{\"patent_type\":\"design\"},{\"patent_type\":\"design\"},{\"patent_type\":\"design\"},{\"patent_type\":\"design\"},{\"patent_type\":\"design\"},{\"patent_type\":\"design\"},{\"patent_type\":\"design\"},{\"patent_type\":\"design\"},{\"patent_type\":\"design\"},{\"patent_type\":\"design\"},{\"patent_type\":\"design\"},{\"patent_type\":\"design\"},{\"patent_type\":\"design\"},{\"patent_type\":\"design\"},{\"patent_type\":\"design\"},{\"patent_type\":\"design\"},{\"patent_type\":\"design\"},{\"patent_type\":\"design\"}],\"count\":50,\"total_patent_count\":100000}\n",
      "{\"patents\":[{\"patent_type\":\"design\"},{\"patent_type\":\"design\"},{\"patent_type\":\"design\"},{\"patent_type\":\"design\"},{\"patent_type\":\"design\"},{\"patent_type\":\"design\"},{\"patent_type\":\"design\"},{\"patent_type\":\"design\"},{\"patent_type\":\"design\"},{\"patent_type\":\"design\"},{\"patent_type\":\"design\"},{\"patent_type\":\"design\"},{\"patent_type\":\"design\"},{\"patent_type\":\"design\"},{\"patent_type\":\"design\"},{\"patent_type\":\"design\"},{\"patent_type\":\"design\"},{\"patent_type\":\"design\"},{\"patent_type\":\"design\"},{\"patent_type\":\"design\"},{\"patent_type\":\"design\"},{\"patent_type\":\"design\"},{\"patent_type\":\"design\"},{\"patent_type\":\"design\"},{\"patent_type\":\"design\"},{\"patent_type\":\"design\"},{\"patent_type\":\"design\"},{\"patent_type\":\"design\"},{\"patent_type\":\"design\"},{\"patent_type\":\"design\"},{\"patent_type\":\"design\"},{\"patent_type\":\"design\"},{\"patent_type\":\"design\"},{\"patent_type\":\"design\"},{\"patent_type\":\"design\"},{\"patent_type\":\"design\"},{\"patent_type\":\"design\"},{\"patent_type\":\"design\"},{\"patent_type\":\"design\"},{\"patent_type\":\"design\"},{\"patent_type\":\"design\"},{\"patent_type\":\"design\"},{\"patent_type\":\"design\"},{\"patent_type\":\"design\"},{\"patent_type\":\"design\"},{\"patent_type\":\"design\"},{\"patent_type\":\"design\"},{\"patent_type\":\"design\"},{\"patent_type\":\"design\"},{\"patent_type\":\"design\"}],\"count\":50,\"total_patent_count\":100000}\n",
      "{\"patents\":[{\"patent_type\":\"design\"},{\"patent_type\":\"design\"},{\"patent_type\":\"design\"},{\"patent_type\":\"design\"},{\"patent_type\":\"design\"},{\"patent_type\":\"design\"},{\"patent_type\":\"design\"},{\"patent_type\":\"design\"},{\"patent_type\":\"design\"},{\"patent_type\":\"design\"},{\"patent_type\":\"design\"},{\"patent_type\":\"design\"},{\"patent_type\":\"design\"},{\"patent_type\":\"design\"},{\"patent_type\":\"design\"},{\"patent_type\":\"design\"},{\"patent_type\":\"design\"},{\"patent_type\":\"design\"},{\"patent_type\":\"design\"},{\"patent_type\":\"design\"},{\"patent_type\":\"design\"},{\"patent_type\":\"design\"},{\"patent_type\":\"design\"},{\"patent_type\":\"design\"},{\"patent_type\":\"design\"},{\"patent_type\":\"design\"},{\"patent_type\":\"design\"},{\"patent_type\":\"design\"},{\"patent_type\":\"design\"},{\"patent_type\":\"design\"},{\"patent_type\":\"design\"},{\"patent_type\":\"design\"},{\"patent_type\":\"design\"},{\"patent_type\":\"design\"},{\"patent_type\":\"design\"},{\"patent_type\":\"design\"},{\"patent_type\":\"design\"},{\"patent_type\":\"design\"},{\"patent_type\":\"design\"},{\"patent_type\":\"design\"},{\"patent_type\":\"design\"},{\"patent_type\":\"design\"},{\"patent_type\":\"design\"},{\"patent_type\":\"design\"},{\"patent_type\":\"design\"},{\"patent_type\":\"design\"},{\"patent_type\":\"design\"},{\"patent_type\":\"design\"},{\"patent_type\":\"design\"},{\"patent_type\":\"design\"}],\"count\":50,\"total_patent_count\":100000}\n",
      "{\"patents\":[{\"patent_type\":\"plant\"},{\"patent_type\":\"plant\"},{\"patent_type\":\"plant\"},{\"patent_type\":\"plant\"},{\"patent_type\":\"plant\"},{\"patent_type\":\"plant\"},{\"patent_type\":\"plant\"},{\"patent_type\":\"plant\"},{\"patent_type\":\"plant\"},{\"patent_type\":\"plant\"},{\"patent_type\":\"plant\"},{\"patent_type\":\"plant\"},{\"patent_type\":\"plant\"},{\"patent_type\":\"plant\"},{\"patent_type\":\"plant\"},{\"patent_type\":\"plant\"},{\"patent_type\":\"plant\"},{\"patent_type\":\"plant\"},{\"patent_type\":\"plant\"},{\"patent_type\":\"plant\"},{\"patent_type\":\"plant\"},{\"patent_type\":\"plant\"},{\"patent_type\":\"plant\"},{\"patent_type\":\"plant\"},{\"patent_type\":\"plant\"},{\"patent_type\":\"plant\"},{\"patent_type\":\"plant\"},{\"patent_type\":\"plant\"},{\"patent_type\":\"plant\"},{\"patent_type\":\"plant\"},{\"patent_type\":\"plant\"},{\"patent_type\":\"plant\"},{\"patent_type\":\"plant\"},{\"patent_type\":\"plant\"},{\"patent_type\":\"plant\"},{\"patent_type\":\"plant\"},{\"patent_type\":\"plant\"},{\"patent_type\":\"plant\"},{\"patent_type\":\"plant\"},{\"patent_type\":\"plant\"},{\"patent_type\":\"plant\"},{\"patent_type\":\"plant\"},{\"patent_type\":\"plant\"},{\"patent_type\":\"plant\"},{\"patent_type\":\"plant\"},{\"patent_type\":\"plant\"},{\"patent_type\":\"plant\"},{\"patent_type\":\"plant\"},{\"patent_type\":\"plant\"},{\"patent_type\":\"plant\"}],\"count\":50,\"total_patent_count\":26892}\n",
      "{\"patents\":[{\"patent_type\":\"plant\"},{\"patent_type\":\"plant\"},{\"patent_type\":\"plant\"},{\"patent_type\":\"plant\"},{\"patent_type\":\"plant\"},{\"patent_type\":\"plant\"},{\"patent_type\":\"plant\"},{\"patent_type\":\"plant\"},{\"patent_type\":\"plant\"},{\"patent_type\":\"plant\"},{\"patent_type\":\"plant\"},{\"patent_type\":\"plant\"},{\"patent_type\":\"plant\"},{\"patent_type\":\"plant\"},{\"patent_type\":\"plant\"},{\"patent_type\":\"plant\"},{\"patent_type\":\"plant\"},{\"patent_type\":\"plant\"},{\"patent_type\":\"plant\"},{\"patent_type\":\"plant\"},{\"patent_type\":\"plant\"},{\"patent_type\":\"plant\"},{\"patent_type\":\"plant\"},{\"patent_type\":\"plant\"},{\"patent_type\":\"plant\"},{\"patent_type\":\"plant\"},{\"patent_type\":\"plant\"},{\"patent_type\":\"plant\"},{\"patent_type\":\"plant\"},{\"patent_type\":\"plant\"},{\"patent_type\":\"plant\"},{\"patent_type\":\"plant\"},{\"patent_type\":\"plant\"},{\"patent_type\":\"plant\"},{\"patent_type\":\"plant\"},{\"patent_type\":\"plant\"},{\"patent_type\":\"plant\"},{\"patent_type\":\"plant\"},{\"patent_type\":\"plant\"},{\"patent_type\":\"plant\"},{\"patent_type\":\"plant\"},{\"patent_type\":\"plant\"},{\"patent_type\":\"plant\"},{\"patent_type\":\"plant\"},{\"patent_type\":\"plant\"},{\"patent_type\":\"plant\"},{\"patent_type\":\"plant\"},{\"patent_type\":\"plant\"},{\"patent_type\":\"plant\"},{\"patent_type\":\"plant\"}],\"count\":50,\"total_patent_count\":26892}\n",
      "{\"patents\":[{\"patent_type\":\"plant\"},{\"patent_type\":\"plant\"},{\"patent_type\":\"plant\"},{\"patent_type\":\"plant\"},{\"patent_type\":\"plant\"},{\"patent_type\":\"plant\"},{\"patent_type\":\"plant\"},{\"patent_type\":\"plant\"},{\"patent_type\":\"plant\"},{\"patent_type\":\"plant\"},{\"patent_type\":\"plant\"},{\"patent_type\":\"plant\"},{\"patent_type\":\"plant\"},{\"patent_type\":\"plant\"},{\"patent_type\":\"plant\"},{\"patent_type\":\"plant\"},{\"patent_type\":\"plant\"},{\"patent_type\":\"plant\"},{\"patent_type\":\"plant\"},{\"patent_type\":\"plant\"},{\"patent_type\":\"plant\"},{\"patent_type\":\"plant\"},{\"patent_type\":\"plant\"},{\"patent_type\":\"plant\"},{\"patent_type\":\"plant\"},{\"patent_type\":\"plant\"},{\"patent_type\":\"plant\"},{\"patent_type\":\"plant\"},{\"patent_type\":\"plant\"},{\"patent_type\":\"plant\"},{\"patent_type\":\"plant\"},{\"patent_type\":\"plant\"},{\"patent_type\":\"plant\"},{\"patent_type\":\"plant\"},{\"patent_type\":\"plant\"},{\"patent_type\":\"plant\"},{\"patent_type\":\"plant\"},{\"patent_type\":\"plant\"},{\"patent_type\":\"plant\"},{\"patent_type\":\"plant\"},{\"patent_type\":\"plant\"},{\"patent_type\":\"plant\"},{\"patent_type\":\"plant\"},{\"patent_type\":\"plant\"},{\"patent_type\":\"plant\"},{\"patent_type\":\"plant\"},{\"patent_type\":\"plant\"},{\"patent_type\":\"plant\"},{\"patent_type\":\"plant\"},{\"patent_type\":\"plant\"}],\"count\":50,\"total_patent_count\":26892}\n",
      "{\"patents\":[{\"patent_type\":\"plant\"},{\"patent_type\":\"plant\"},{\"patent_type\":\"plant\"},{\"patent_type\":\"plant\"},{\"patent_type\":\"plant\"},{\"patent_type\":\"plant\"},{\"patent_type\":\"plant\"},{\"patent_type\":\"plant\"},{\"patent_type\":\"plant\"},{\"patent_type\":\"plant\"},{\"patent_type\":\"plant\"},{\"patent_type\":\"plant\"},{\"patent_type\":\"plant\"},{\"patent_type\":\"plant\"},{\"patent_type\":\"plant\"},{\"patent_type\":\"plant\"},{\"patent_type\":\"plant\"},{\"patent_type\":\"plant\"},{\"patent_type\":\"plant\"},{\"patent_type\":\"plant\"},{\"patent_type\":\"plant\"},{\"patent_type\":\"plant\"},{\"patent_type\":\"plant\"},{\"patent_type\":\"plant\"},{\"patent_type\":\"plant\"},{\"patent_type\":\"plant\"},{\"patent_type\":\"plant\"},{\"patent_type\":\"plant\"},{\"patent_type\":\"plant\"},{\"patent_type\":\"plant\"},{\"patent_type\":\"plant\"},{\"patent_type\":\"plant\"},{\"patent_type\":\"plant\"},{\"patent_type\":\"plant\"},{\"patent_type\":\"plant\"},{\"patent_type\":\"plant\"},{\"patent_type\":\"plant\"},{\"patent_type\":\"plant\"},{\"patent_type\":\"plant\"},{\"patent_type\":\"plant\"},{\"patent_type\":\"plant\"},{\"patent_type\":\"plant\"},{\"patent_type\":\"plant\"},{\"patent_type\":\"plant\"},{\"patent_type\":\"plant\"},{\"patent_type\":\"plant\"},{\"patent_type\":\"plant\"},{\"patent_type\":\"plant\"},{\"patent_type\":\"plant\"},{\"patent_type\":\"plant\"}],\"count\":50,\"total_patent_count\":26892}\n"
     ]
    },
    {
     "name": "stdout",
     "output_type": "stream",
     "text": [
      "{\"patents\":[{\"patent_type\":\"plant\"},{\"patent_type\":\"plant\"},{\"patent_type\":\"plant\"},{\"patent_type\":\"plant\"},{\"patent_type\":\"plant\"},{\"patent_type\":\"plant\"},{\"patent_type\":\"plant\"},{\"patent_type\":\"plant\"},{\"patent_type\":\"plant\"},{\"patent_type\":\"plant\"},{\"patent_type\":\"plant\"},{\"patent_type\":\"plant\"},{\"patent_type\":\"plant\"},{\"patent_type\":\"plant\"},{\"patent_type\":\"plant\"},{\"patent_type\":\"plant\"},{\"patent_type\":\"plant\"},{\"patent_type\":\"plant\"},{\"patent_type\":\"plant\"},{\"patent_type\":\"plant\"},{\"patent_type\":\"plant\"},{\"patent_type\":\"plant\"},{\"patent_type\":\"plant\"},{\"patent_type\":\"plant\"},{\"patent_type\":\"plant\"},{\"patent_type\":\"plant\"},{\"patent_type\":\"plant\"},{\"patent_type\":\"plant\"},{\"patent_type\":\"plant\"},{\"patent_type\":\"plant\"},{\"patent_type\":\"plant\"},{\"patent_type\":\"plant\"},{\"patent_type\":\"plant\"},{\"patent_type\":\"plant\"},{\"patent_type\":\"plant\"},{\"patent_type\":\"plant\"},{\"patent_type\":\"plant\"},{\"patent_type\":\"plant\"},{\"patent_type\":\"plant\"},{\"patent_type\":\"plant\"},{\"patent_type\":\"plant\"},{\"patent_type\":\"plant\"},{\"patent_type\":\"plant\"},{\"patent_type\":\"plant\"},{\"patent_type\":\"plant\"},{\"patent_type\":\"plant\"},{\"patent_type\":\"plant\"},{\"patent_type\":\"plant\"},{\"patent_type\":\"plant\"},{\"patent_type\":\"plant\"}],\"count\":50,\"total_patent_count\":26892}\n",
      "{\"patents\":[{\"patent_type\":\"plant\"},{\"patent_type\":\"plant\"},{\"patent_type\":\"plant\"},{\"patent_type\":\"plant\"},{\"patent_type\":\"plant\"},{\"patent_type\":\"plant\"},{\"patent_type\":\"plant\"},{\"patent_type\":\"plant\"},{\"patent_type\":\"plant\"},{\"patent_type\":\"plant\"},{\"patent_type\":\"plant\"},{\"patent_type\":\"plant\"},{\"patent_type\":\"plant\"},{\"patent_type\":\"plant\"},{\"patent_type\":\"plant\"},{\"patent_type\":\"plant\"},{\"patent_type\":\"plant\"},{\"patent_type\":\"plant\"},{\"patent_type\":\"plant\"},{\"patent_type\":\"plant\"},{\"patent_type\":\"plant\"},{\"patent_type\":\"plant\"},{\"patent_type\":\"plant\"},{\"patent_type\":\"plant\"},{\"patent_type\":\"plant\"},{\"patent_type\":\"plant\"},{\"patent_type\":\"plant\"},{\"patent_type\":\"plant\"},{\"patent_type\":\"plant\"},{\"patent_type\":\"plant\"},{\"patent_type\":\"plant\"},{\"patent_type\":\"plant\"},{\"patent_type\":\"plant\"},{\"patent_type\":\"plant\"},{\"patent_type\":\"plant\"},{\"patent_type\":\"plant\"},{\"patent_type\":\"plant\"},{\"patent_type\":\"plant\"},{\"patent_type\":\"plant\"},{\"patent_type\":\"plant\"},{\"patent_type\":\"plant\"},{\"patent_type\":\"plant\"},{\"patent_type\":\"plant\"},{\"patent_type\":\"plant\"},{\"patent_type\":\"plant\"},{\"patent_type\":\"plant\"},{\"patent_type\":\"plant\"},{\"patent_type\":\"plant\"},{\"patent_type\":\"plant\"},{\"patent_type\":\"plant\"}],\"count\":50,\"total_patent_count\":26892}\n",
      "{\"patents\":[{\"patent_type\":\"plant\"},{\"patent_type\":\"plant\"},{\"patent_type\":\"plant\"},{\"patent_type\":\"plant\"},{\"patent_type\":\"plant\"},{\"patent_type\":\"plant\"},{\"patent_type\":\"plant\"},{\"patent_type\":\"plant\"},{\"patent_type\":\"plant\"},{\"patent_type\":\"plant\"},{\"patent_type\":\"plant\"},{\"patent_type\":\"plant\"},{\"patent_type\":\"plant\"},{\"patent_type\":\"plant\"},{\"patent_type\":\"plant\"},{\"patent_type\":\"plant\"},{\"patent_type\":\"plant\"},{\"patent_type\":\"plant\"},{\"patent_type\":\"plant\"},{\"patent_type\":\"plant\"},{\"patent_type\":\"plant\"},{\"patent_type\":\"plant\"},{\"patent_type\":\"plant\"},{\"patent_type\":\"plant\"},{\"patent_type\":\"plant\"},{\"patent_type\":\"plant\"},{\"patent_type\":\"plant\"},{\"patent_type\":\"plant\"},{\"patent_type\":\"plant\"},{\"patent_type\":\"plant\"},{\"patent_type\":\"plant\"},{\"patent_type\":\"plant\"},{\"patent_type\":\"plant\"},{\"patent_type\":\"plant\"},{\"patent_type\":\"plant\"},{\"patent_type\":\"plant\"},{\"patent_type\":\"plant\"},{\"patent_type\":\"plant\"},{\"patent_type\":\"plant\"},{\"patent_type\":\"plant\"},{\"patent_type\":\"plant\"},{\"patent_type\":\"plant\"},{\"patent_type\":\"plant\"},{\"patent_type\":\"plant\"},{\"patent_type\":\"plant\"},{\"patent_type\":\"plant\"},{\"patent_type\":\"plant\"},{\"patent_type\":\"plant\"},{\"patent_type\":\"plant\"},{\"patent_type\":\"plant\"}],\"count\":50,\"total_patent_count\":26892}\n",
      "{\"patents\":[{\"patent_type\":\"plant\"},{\"patent_type\":\"plant\"},{\"patent_type\":\"plant\"},{\"patent_type\":\"plant\"},{\"patent_type\":\"plant\"},{\"patent_type\":\"plant\"},{\"patent_type\":\"plant\"},{\"patent_type\":\"plant\"},{\"patent_type\":\"plant\"},{\"patent_type\":\"plant\"},{\"patent_type\":\"plant\"},{\"patent_type\":\"plant\"},{\"patent_type\":\"plant\"},{\"patent_type\":\"plant\"},{\"patent_type\":\"plant\"},{\"patent_type\":\"plant\"},{\"patent_type\":\"plant\"},{\"patent_type\":\"plant\"},{\"patent_type\":\"plant\"},{\"patent_type\":\"plant\"},{\"patent_type\":\"plant\"},{\"patent_type\":\"plant\"},{\"patent_type\":\"plant\"},{\"patent_type\":\"plant\"},{\"patent_type\":\"plant\"},{\"patent_type\":\"plant\"},{\"patent_type\":\"plant\"},{\"patent_type\":\"plant\"},{\"patent_type\":\"plant\"},{\"patent_type\":\"plant\"},{\"patent_type\":\"plant\"},{\"patent_type\":\"plant\"},{\"patent_type\":\"plant\"},{\"patent_type\":\"plant\"},{\"patent_type\":\"plant\"},{\"patent_type\":\"plant\"},{\"patent_type\":\"plant\"},{\"patent_type\":\"plant\"},{\"patent_type\":\"plant\"},{\"patent_type\":\"plant\"},{\"patent_type\":\"plant\"},{\"patent_type\":\"plant\"},{\"patent_type\":\"plant\"},{\"patent_type\":\"plant\"},{\"patent_type\":\"plant\"},{\"patent_type\":\"plant\"},{\"patent_type\":\"plant\"},{\"patent_type\":\"plant\"},{\"patent_type\":\"plant\"},{\"patent_type\":\"plant\"}],\"count\":50,\"total_patent_count\":26892}\n",
      "{\"patents\":[{\"patent_type\":\"plant\"},{\"patent_type\":\"plant\"},{\"patent_type\":\"plant\"},{\"patent_type\":\"plant\"},{\"patent_type\":\"plant\"},{\"patent_type\":\"plant\"},{\"patent_type\":\"plant\"},{\"patent_type\":\"plant\"},{\"patent_type\":\"plant\"},{\"patent_type\":\"plant\"},{\"patent_type\":\"plant\"},{\"patent_type\":\"plant\"},{\"patent_type\":\"plant\"},{\"patent_type\":\"plant\"},{\"patent_type\":\"plant\"},{\"patent_type\":\"plant\"},{\"patent_type\":\"plant\"},{\"patent_type\":\"plant\"},{\"patent_type\":\"plant\"},{\"patent_type\":\"plant\"},{\"patent_type\":\"plant\"},{\"patent_type\":\"plant\"},{\"patent_type\":\"plant\"},{\"patent_type\":\"plant\"},{\"patent_type\":\"plant\"},{\"patent_type\":\"plant\"},{\"patent_type\":\"plant\"},{\"patent_type\":\"plant\"},{\"patent_type\":\"plant\"},{\"patent_type\":\"plant\"},{\"patent_type\":\"plant\"},{\"patent_type\":\"plant\"},{\"patent_type\":\"plant\"},{\"patent_type\":\"plant\"},{\"patent_type\":\"plant\"},{\"patent_type\":\"plant\"},{\"patent_type\":\"plant\"},{\"patent_type\":\"plant\"},{\"patent_type\":\"plant\"},{\"patent_type\":\"plant\"},{\"patent_type\":\"plant\"},{\"patent_type\":\"plant\"},{\"patent_type\":\"plant\"},{\"patent_type\":\"plant\"},{\"patent_type\":\"plant\"},{\"patent_type\":\"plant\"},{\"patent_type\":\"plant\"},{\"patent_type\":\"plant\"},{\"patent_type\":\"plant\"},{\"patent_type\":\"plant\"}],\"count\":50,\"total_patent_count\":26892}\n",
      "{\"patents\":[{\"patent_type\":\"plant\"},{\"patent_type\":\"plant\"},{\"patent_type\":\"plant\"},{\"patent_type\":\"plant\"},{\"patent_type\":\"plant\"},{\"patent_type\":\"plant\"},{\"patent_type\":\"plant\"},{\"patent_type\":\"plant\"},{\"patent_type\":\"plant\"},{\"patent_type\":\"plant\"},{\"patent_type\":\"plant\"},{\"patent_type\":\"plant\"},{\"patent_type\":\"plant\"},{\"patent_type\":\"plant\"},{\"patent_type\":\"plant\"},{\"patent_type\":\"plant\"},{\"patent_type\":\"plant\"},{\"patent_type\":\"plant\"},{\"patent_type\":\"plant\"},{\"patent_type\":\"plant\"},{\"patent_type\":\"plant\"},{\"patent_type\":\"plant\"},{\"patent_type\":\"plant\"},{\"patent_type\":\"plant\"},{\"patent_type\":\"plant\"},{\"patent_type\":\"plant\"},{\"patent_type\":\"plant\"},{\"patent_type\":\"plant\"},{\"patent_type\":\"plant\"},{\"patent_type\":\"plant\"},{\"patent_type\":\"plant\"},{\"patent_type\":\"plant\"},{\"patent_type\":\"plant\"},{\"patent_type\":\"plant\"},{\"patent_type\":\"plant\"},{\"patent_type\":\"plant\"},{\"patent_type\":\"plant\"},{\"patent_type\":\"plant\"},{\"patent_type\":\"plant\"},{\"patent_type\":\"plant\"},{\"patent_type\":\"plant\"},{\"patent_type\":\"plant\"},{\"patent_type\":\"plant\"},{\"patent_type\":\"plant\"},{\"patent_type\":\"plant\"},{\"patent_type\":\"plant\"},{\"patent_type\":\"plant\"},{\"patent_type\":\"plant\"},{\"patent_type\":\"plant\"},{\"patent_type\":\"plant\"}],\"count\":50,\"total_patent_count\":26892}\n",
      "{\"patents\":[{\"patent_type\":\"plant\"},{\"patent_type\":\"plant\"},{\"patent_type\":\"plant\"},{\"patent_type\":\"plant\"},{\"patent_type\":\"plant\"},{\"patent_type\":\"plant\"},{\"patent_type\":\"plant\"},{\"patent_type\":\"plant\"},{\"patent_type\":\"plant\"},{\"patent_type\":\"plant\"},{\"patent_type\":\"plant\"},{\"patent_type\":\"plant\"},{\"patent_type\":\"plant\"},{\"patent_type\":\"plant\"},{\"patent_type\":\"plant\"},{\"patent_type\":\"plant\"},{\"patent_type\":\"plant\"},{\"patent_type\":\"plant\"},{\"patent_type\":\"plant\"},{\"patent_type\":\"plant\"},{\"patent_type\":\"plant\"},{\"patent_type\":\"plant\"},{\"patent_type\":\"plant\"},{\"patent_type\":\"plant\"},{\"patent_type\":\"plant\"},{\"patent_type\":\"plant\"},{\"patent_type\":\"plant\"},{\"patent_type\":\"plant\"},{\"patent_type\":\"plant\"},{\"patent_type\":\"plant\"},{\"patent_type\":\"plant\"},{\"patent_type\":\"plant\"},{\"patent_type\":\"plant\"},{\"patent_type\":\"plant\"},{\"patent_type\":\"plant\"},{\"patent_type\":\"plant\"},{\"patent_type\":\"plant\"},{\"patent_type\":\"plant\"},{\"patent_type\":\"plant\"},{\"patent_type\":\"plant\"},{\"patent_type\":\"plant\"},{\"patent_type\":\"plant\"},{\"patent_type\":\"plant\"},{\"patent_type\":\"plant\"},{\"patent_type\":\"plant\"},{\"patent_type\":\"plant\"},{\"patent_type\":\"plant\"},{\"patent_type\":\"plant\"},{\"patent_type\":\"plant\"},{\"patent_type\":\"plant\"}],\"count\":50,\"total_patent_count\":26892}\n"
     ]
    },
    {
     "name": "stdout",
     "output_type": "stream",
     "text": [
      "{\"patents\":[{\"patent_type\":\"plant\"},{\"patent_type\":\"plant\"},{\"patent_type\":\"plant\"},{\"patent_type\":\"plant\"},{\"patent_type\":\"plant\"},{\"patent_type\":\"plant\"},{\"patent_type\":\"plant\"},{\"patent_type\":\"plant\"},{\"patent_type\":\"plant\"},{\"patent_type\":\"plant\"},{\"patent_type\":\"plant\"},{\"patent_type\":\"plant\"},{\"patent_type\":\"plant\"},{\"patent_type\":\"plant\"},{\"patent_type\":\"plant\"},{\"patent_type\":\"plant\"},{\"patent_type\":\"plant\"},{\"patent_type\":\"plant\"},{\"patent_type\":\"plant\"},{\"patent_type\":\"plant\"},{\"patent_type\":\"plant\"},{\"patent_type\":\"plant\"},{\"patent_type\":\"plant\"},{\"patent_type\":\"plant\"},{\"patent_type\":\"plant\"},{\"patent_type\":\"plant\"},{\"patent_type\":\"plant\"},{\"patent_type\":\"plant\"},{\"patent_type\":\"plant\"},{\"patent_type\":\"plant\"},{\"patent_type\":\"plant\"},{\"patent_type\":\"plant\"},{\"patent_type\":\"plant\"},{\"patent_type\":\"plant\"},{\"patent_type\":\"plant\"},{\"patent_type\":\"plant\"},{\"patent_type\":\"plant\"},{\"patent_type\":\"plant\"},{\"patent_type\":\"plant\"},{\"patent_type\":\"plant\"},{\"patent_type\":\"plant\"},{\"patent_type\":\"plant\"},{\"patent_type\":\"plant\"},{\"patent_type\":\"plant\"},{\"patent_type\":\"plant\"},{\"patent_type\":\"plant\"},{\"patent_type\":\"plant\"},{\"patent_type\":\"plant\"},{\"patent_type\":\"plant\"},{\"patent_type\":\"plant\"}],\"count\":50,\"total_patent_count\":26892}\n",
      "{\"patents\":[{\"patent_type\":\"plant\"},{\"patent_type\":\"plant\"},{\"patent_type\":\"plant\"},{\"patent_type\":\"plant\"},{\"patent_type\":\"plant\"},{\"patent_type\":\"plant\"},{\"patent_type\":\"plant\"},{\"patent_type\":\"plant\"},{\"patent_type\":\"plant\"},{\"patent_type\":\"plant\"},{\"patent_type\":\"plant\"},{\"patent_type\":\"plant\"},{\"patent_type\":\"plant\"},{\"patent_type\":\"plant\"},{\"patent_type\":\"plant\"},{\"patent_type\":\"plant\"},{\"patent_type\":\"plant\"},{\"patent_type\":\"plant\"},{\"patent_type\":\"plant\"},{\"patent_type\":\"plant\"},{\"patent_type\":\"plant\"},{\"patent_type\":\"plant\"},{\"patent_type\":\"plant\"},{\"patent_type\":\"plant\"},{\"patent_type\":\"plant\"},{\"patent_type\":\"plant\"},{\"patent_type\":\"plant\"},{\"patent_type\":\"plant\"},{\"patent_type\":\"plant\"},{\"patent_type\":\"plant\"},{\"patent_type\":\"plant\"},{\"patent_type\":\"plant\"},{\"patent_type\":\"plant\"},{\"patent_type\":\"plant\"},{\"patent_type\":\"plant\"},{\"patent_type\":\"plant\"},{\"patent_type\":\"plant\"},{\"patent_type\":\"plant\"},{\"patent_type\":\"plant\"},{\"patent_type\":\"plant\"},{\"patent_type\":\"plant\"},{\"patent_type\":\"plant\"},{\"patent_type\":\"plant\"},{\"patent_type\":\"plant\"},{\"patent_type\":\"plant\"},{\"patent_type\":\"plant\"},{\"patent_type\":\"plant\"},{\"patent_type\":\"plant\"},{\"patent_type\":\"plant\"},{\"patent_type\":\"plant\"}],\"count\":50,\"total_patent_count\":26892}\n",
      "{\"patents\":[{\"patent_type\":\"plant\"},{\"patent_type\":\"plant\"},{\"patent_type\":\"plant\"},{\"patent_type\":\"plant\"},{\"patent_type\":\"plant\"},{\"patent_type\":\"plant\"},{\"patent_type\":\"plant\"},{\"patent_type\":\"plant\"},{\"patent_type\":\"plant\"},{\"patent_type\":\"plant\"},{\"patent_type\":\"plant\"},{\"patent_type\":\"plant\"},{\"patent_type\":\"plant\"},{\"patent_type\":\"plant\"},{\"patent_type\":\"plant\"},{\"patent_type\":\"plant\"},{\"patent_type\":\"plant\"},{\"patent_type\":\"plant\"},{\"patent_type\":\"plant\"},{\"patent_type\":\"plant\"},{\"patent_type\":\"plant\"},{\"patent_type\":\"plant\"},{\"patent_type\":\"plant\"},{\"patent_type\":\"plant\"},{\"patent_type\":\"plant\"},{\"patent_type\":\"plant\"},{\"patent_type\":\"plant\"},{\"patent_type\":\"plant\"},{\"patent_type\":\"plant\"},{\"patent_type\":\"plant\"},{\"patent_type\":\"plant\"},{\"patent_type\":\"plant\"},{\"patent_type\":\"plant\"},{\"patent_type\":\"plant\"},{\"patent_type\":\"plant\"},{\"patent_type\":\"plant\"},{\"patent_type\":\"plant\"},{\"patent_type\":\"plant\"},{\"patent_type\":\"plant\"},{\"patent_type\":\"plant\"},{\"patent_type\":\"plant\"},{\"patent_type\":\"plant\"},{\"patent_type\":\"plant\"},{\"patent_type\":\"plant\"},{\"patent_type\":\"plant\"},{\"patent_type\":\"plant\"},{\"patent_type\":\"plant\"},{\"patent_type\":\"plant\"},{\"patent_type\":\"plant\"},{\"patent_type\":\"plant\"}],\"count\":50,\"total_patent_count\":26892}\n",
      "{\"patents\":[{\"patent_type\":\"plant\"},{\"patent_type\":\"plant\"},{\"patent_type\":\"plant\"},{\"patent_type\":\"plant\"},{\"patent_type\":\"plant\"},{\"patent_type\":\"plant\"},{\"patent_type\":\"plant\"},{\"patent_type\":\"plant\"},{\"patent_type\":\"plant\"},{\"patent_type\":\"plant\"},{\"patent_type\":\"plant\"},{\"patent_type\":\"plant\"},{\"patent_type\":\"plant\"},{\"patent_type\":\"plant\"},{\"patent_type\":\"plant\"},{\"patent_type\":\"plant\"},{\"patent_type\":\"plant\"},{\"patent_type\":\"plant\"},{\"patent_type\":\"plant\"},{\"patent_type\":\"plant\"},{\"patent_type\":\"plant\"},{\"patent_type\":\"plant\"},{\"patent_type\":\"plant\"},{\"patent_type\":\"plant\"},{\"patent_type\":\"plant\"},{\"patent_type\":\"plant\"},{\"patent_type\":\"plant\"},{\"patent_type\":\"plant\"},{\"patent_type\":\"plant\"},{\"patent_type\":\"plant\"},{\"patent_type\":\"plant\"},{\"patent_type\":\"plant\"},{\"patent_type\":\"plant\"},{\"patent_type\":\"plant\"},{\"patent_type\":\"plant\"},{\"patent_type\":\"plant\"},{\"patent_type\":\"plant\"},{\"patent_type\":\"plant\"},{\"patent_type\":\"plant\"},{\"patent_type\":\"plant\"},{\"patent_type\":\"plant\"},{\"patent_type\":\"plant\"},{\"patent_type\":\"plant\"},{\"patent_type\":\"plant\"},{\"patent_type\":\"plant\"},{\"patent_type\":\"plant\"},{\"patent_type\":\"plant\"},{\"patent_type\":\"plant\"},{\"patent_type\":\"plant\"},{\"patent_type\":\"plant\"}],\"count\":50,\"total_patent_count\":26892}\n",
      "{\"patents\":[{\"patent_type\":\"plant\"},{\"patent_type\":\"plant\"},{\"patent_type\":\"plant\"},{\"patent_type\":\"plant\"},{\"patent_type\":\"plant\"},{\"patent_type\":\"plant\"},{\"patent_type\":\"plant\"},{\"patent_type\":\"plant\"},{\"patent_type\":\"plant\"},{\"patent_type\":\"plant\"},{\"patent_type\":\"plant\"},{\"patent_type\":\"plant\"},{\"patent_type\":\"plant\"},{\"patent_type\":\"plant\"},{\"patent_type\":\"plant\"},{\"patent_type\":\"plant\"},{\"patent_type\":\"plant\"},{\"patent_type\":\"plant\"},{\"patent_type\":\"plant\"},{\"patent_type\":\"plant\"},{\"patent_type\":\"plant\"},{\"patent_type\":\"plant\"},{\"patent_type\":\"plant\"},{\"patent_type\":\"plant\"},{\"patent_type\":\"plant\"},{\"patent_type\":\"plant\"},{\"patent_type\":\"plant\"},{\"patent_type\":\"plant\"},{\"patent_type\":\"plant\"},{\"patent_type\":\"plant\"},{\"patent_type\":\"plant\"},{\"patent_type\":\"plant\"},{\"patent_type\":\"plant\"},{\"patent_type\":\"plant\"},{\"patent_type\":\"plant\"},{\"patent_type\":\"plant\"},{\"patent_type\":\"plant\"},{\"patent_type\":\"plant\"},{\"patent_type\":\"plant\"},{\"patent_type\":\"plant\"},{\"patent_type\":\"plant\"},{\"patent_type\":\"plant\"},{\"patent_type\":\"plant\"},{\"patent_type\":\"plant\"},{\"patent_type\":\"plant\"},{\"patent_type\":\"plant\"},{\"patent_type\":\"plant\"},{\"patent_type\":\"plant\"},{\"patent_type\":\"plant\"},{\"patent_type\":\"plant\"}],\"count\":50,\"total_patent_count\":26892}\n",
      "{\"patents\":[{\"patent_type\":\"plant\"},{\"patent_type\":\"plant\"},{\"patent_type\":\"plant\"},{\"patent_type\":\"plant\"},{\"patent_type\":\"plant\"},{\"patent_type\":\"plant\"},{\"patent_type\":\"plant\"},{\"patent_type\":\"plant\"},{\"patent_type\":\"plant\"},{\"patent_type\":\"plant\"},{\"patent_type\":\"plant\"},{\"patent_type\":\"plant\"},{\"patent_type\":\"plant\"},{\"patent_type\":\"plant\"},{\"patent_type\":\"plant\"},{\"patent_type\":\"plant\"},{\"patent_type\":\"plant\"},{\"patent_type\":\"plant\"},{\"patent_type\":\"plant\"},{\"patent_type\":\"plant\"},{\"patent_type\":\"plant\"},{\"patent_type\":\"plant\"},{\"patent_type\":\"plant\"},{\"patent_type\":\"plant\"},{\"patent_type\":\"plant\"},{\"patent_type\":\"plant\"},{\"patent_type\":\"plant\"},{\"patent_type\":\"plant\"},{\"patent_type\":\"plant\"},{\"patent_type\":\"plant\"},{\"patent_type\":\"plant\"},{\"patent_type\":\"plant\"},{\"patent_type\":\"plant\"},{\"patent_type\":\"plant\"},{\"patent_type\":\"plant\"},{\"patent_type\":\"plant\"},{\"patent_type\":\"plant\"},{\"patent_type\":\"plant\"},{\"patent_type\":\"plant\"},{\"patent_type\":\"plant\"},{\"patent_type\":\"plant\"},{\"patent_type\":\"plant\"},{\"patent_type\":\"plant\"},{\"patent_type\":\"plant\"},{\"patent_type\":\"plant\"},{\"patent_type\":\"plant\"},{\"patent_type\":\"plant\"},{\"patent_type\":\"plant\"},{\"patent_type\":\"plant\"},{\"patent_type\":\"plant\"}],\"count\":50,\"total_patent_count\":26892}\n",
      "{\"patents\":[{\"patent_type\":\"plant\"},{\"patent_type\":\"plant\"},{\"patent_type\":\"plant\"},{\"patent_type\":\"plant\"},{\"patent_type\":\"plant\"},{\"patent_type\":\"plant\"},{\"patent_type\":\"plant\"},{\"patent_type\":\"plant\"},{\"patent_type\":\"plant\"},{\"patent_type\":\"plant\"},{\"patent_type\":\"plant\"},{\"patent_type\":\"plant\"},{\"patent_type\":\"plant\"},{\"patent_type\":\"plant\"},{\"patent_type\":\"plant\"},{\"patent_type\":\"plant\"},{\"patent_type\":\"plant\"},{\"patent_type\":\"plant\"},{\"patent_type\":\"plant\"},{\"patent_type\":\"plant\"},{\"patent_type\":\"plant\"},{\"patent_type\":\"plant\"},{\"patent_type\":\"plant\"},{\"patent_type\":\"plant\"},{\"patent_type\":\"plant\"},{\"patent_type\":\"plant\"},{\"patent_type\":\"plant\"},{\"patent_type\":\"plant\"},{\"patent_type\":\"plant\"},{\"patent_type\":\"plant\"},{\"patent_type\":\"plant\"},{\"patent_type\":\"plant\"},{\"patent_type\":\"plant\"},{\"patent_type\":\"plant\"},{\"patent_type\":\"plant\"},{\"patent_type\":\"plant\"},{\"patent_type\":\"plant\"},{\"patent_type\":\"plant\"},{\"patent_type\":\"plant\"},{\"patent_type\":\"plant\"},{\"patent_type\":\"plant\"},{\"patent_type\":\"plant\"},{\"patent_type\":\"plant\"},{\"patent_type\":\"plant\"},{\"patent_type\":\"plant\"},{\"patent_type\":\"plant\"},{\"patent_type\":\"plant\"},{\"patent_type\":\"plant\"},{\"patent_type\":\"plant\"},{\"patent_type\":\"plant\"}],\"count\":50,\"total_patent_count\":26892}\n"
     ]
    },
    {
     "name": "stdout",
     "output_type": "stream",
     "text": [
      "{\"patents\":[{\"patent_type\":\"plant\"},{\"patent_type\":\"plant\"},{\"patent_type\":\"plant\"},{\"patent_type\":\"plant\"},{\"patent_type\":\"plant\"},{\"patent_type\":\"plant\"},{\"patent_type\":\"plant\"},{\"patent_type\":\"plant\"},{\"patent_type\":\"plant\"},{\"patent_type\":\"plant\"},{\"patent_type\":\"plant\"},{\"patent_type\":\"plant\"},{\"patent_type\":\"plant\"},{\"patent_type\":\"plant\"},{\"patent_type\":\"plant\"},{\"patent_type\":\"plant\"},{\"patent_type\":\"plant\"},{\"patent_type\":\"plant\"},{\"patent_type\":\"plant\"},{\"patent_type\":\"plant\"},{\"patent_type\":\"plant\"},{\"patent_type\":\"plant\"},{\"patent_type\":\"plant\"},{\"patent_type\":\"plant\"},{\"patent_type\":\"plant\"},{\"patent_type\":\"plant\"},{\"patent_type\":\"plant\"},{\"patent_type\":\"plant\"},{\"patent_type\":\"plant\"},{\"patent_type\":\"plant\"},{\"patent_type\":\"plant\"},{\"patent_type\":\"plant\"},{\"patent_type\":\"plant\"},{\"patent_type\":\"plant\"},{\"patent_type\":\"plant\"},{\"patent_type\":\"plant\"},{\"patent_type\":\"plant\"},{\"patent_type\":\"plant\"},{\"patent_type\":\"plant\"},{\"patent_type\":\"plant\"},{\"patent_type\":\"plant\"},{\"patent_type\":\"plant\"},{\"patent_type\":\"plant\"},{\"patent_type\":\"plant\"},{\"patent_type\":\"plant\"},{\"patent_type\":\"plant\"},{\"patent_type\":\"plant\"},{\"patent_type\":\"plant\"},{\"patent_type\":\"plant\"},{\"patent_type\":\"plant\"}],\"count\":50,\"total_patent_count\":26892}\n"
     ]
    }
   ],
   "source": [
    "mat=0\n",
    "st=0\n",
    "chem=0\n",
    "datalist=['Utility', 'design', 'Plant']\n",
    "for s in datalist:\n",
    "    for x in range(1,20):\n",
    "        url = \"\"\"https://www.patentsview.org/api/patents/query?q=\"\"\"\n",
    "        query=\"\"\"{\"patent_type\":\"%s\"}&o={\"page\":%d,\"per_page\":50}\"\"\"%(s,x)\n",
    "        uh = urllib.request.urlopen(url+query)\n",
    "        \n",
    "        data = uh.read().decode()\n",
    "        print(data)\n",
    "        if json.loads(data)['total_patent_count']==0:\n",
    "            continue\n",
    "        if s =='Utility':\n",
    "            mat+=json.loads(data)['count']\n",
    "        if s == 'design':\n",
    "            chem+=json.loads(data)['count']\n",
    "        if s == 'Plant':\n",
    "            st+=json.loads(data)['count']\n",
    "    "
   ]
  },
  {
   "cell_type": "code",
   "execution_count": null,
   "metadata": {},
   "outputs": [],
   "source": []
  }
 ],
 "metadata": {
  "kernelspec": {
   "display_name": "Python 3",
   "language": "python",
   "name": "python3"
  },
  "language_info": {
   "codemirror_mode": {
    "name": "ipython",
    "version": 3
   },
   "file_extension": ".py",
   "mimetype": "text/x-python",
   "name": "python",
   "nbconvert_exporter": "python",
   "pygments_lexer": "ipython3",
   "version": "3.7.4"
  }
 },
 "nbformat": 4,
 "nbformat_minor": 2
}
